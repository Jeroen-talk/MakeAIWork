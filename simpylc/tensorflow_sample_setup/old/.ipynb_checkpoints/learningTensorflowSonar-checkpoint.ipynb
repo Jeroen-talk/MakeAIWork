{
 "cells": [
  {
   "cell_type": "code",
   "execution_count": 17,
   "id": "e7f234b6-99ae-4b70-8cf7-50ebc8d02618",
   "metadata": {},
   "outputs": [],
   "source": [
    "import pandas as pd\n",
    "# print(pd.__version__)\n",
    "import numpy as np\n",
    "\n",
    "# ke numpy values easier to read.\n",
    "np.set_printoptions(precision=3, suppress=True)\n",
    "import tensorflow as tf\n",
    "from tensorflow.keras import layers"
   ]
  },
  {
   "cell_type": "code",
   "execution_count": 23,
   "id": "c08bd076-bf1f-4d68-a125-e24a67b13615",
   "metadata": {},
   "outputs": [],
   "source": [
    "L_280922_14 = pd.read_csv(\n",
    "    \"/Users/JeroenArians/MakeAIWork/simpylc/default_samples_files/csv/tensorflow_lidar _01_test.csv\",\n",
    "    names=[\"distance 01\", \"distance 02\",\"distance 03\", \"distance 04\", \"distance 05\", \"distance 06\", \"distance 07\", \"distance 08\", \"distance 09\", \"distance 10\", \"distance 11\", \"distance 12\",\"distance 13\", \"distance 14\", \"distance 15\", \"distance 16\", \"angle\"])\n",
    "\n",
    "# L_280922.head()"
   ]
  },
  {
   "cell_type": "code",
   "execution_count": 24,
   "id": "1c562f89-e955-4069-8138-d75a5c6311ce",
   "metadata": {},
   "outputs": [],
   "source": [
    "distanceLearning = L_280922_14.copy()\n",
    "distanceLearning = distanceLearning.pop('angle')\n",
    "# learningWithoutAngle.head()"
   ]
  },
  {
   "cell_type": "code",
   "execution_count": 25,
   "id": "4f280300-b536-4bda-a2b1-b676630addf5",
   "metadata": {},
   "outputs": [],
   "source": [
    "distanceLearning = np.array(distanceLearning)\n",
    "# distanceLearning"
   ]
  },
  {
   "cell_type": "code",
   "execution_count": 26,
   "id": "cc3d7733-daaf-47a7-aa66-94c433fe4bce",
   "metadata": {},
   "outputs": [],
   "source": [
    "LearningModel = tf.keras.Sequential([\n",
    "  layers.Dense(64, activation = 'relu'),\n",
    "  layers.Dense(64),\n",
    "  layers.Dense(64),\n",
    "  layers.Dense(64),  \n",
    "  layers.Dense(1)\n",
    "])\n",
    "\n",
    "LearningModel.compile(loss = tf.keras.losses.MeanSquaredError(),\n",
    "                      optimizer = tf.keras.optimizers.Adam())"
   ]
  },
  {
   "cell_type": "code",
   "execution_count": 28,
   "id": "eb79cde3-6fcd-46d6-814d-17d553cac4eb",
   "metadata": {},
   "outputs": [
    {
     "name": "stdout",
     "output_type": "stream",
     "text": [
      "Epoch 1/530\n"
     ]
    },
    {
     "ename": "ValueError",
     "evalue": "in user code:\n\n    File \"/Users/JeroenArians/opt/miniconda3/lib/python3.9/site-packages/keras/engine/training.py\", line 878, in train_function  *\n        return step_function(self, iterator)\n    File \"/Users/JeroenArians/opt/miniconda3/lib/python3.9/site-packages/keras/engine/training.py\", line 867, in step_function  **\n        outputs = model.distribute_strategy.run(run_step, args=(data,))\n    File \"/Users/JeroenArians/opt/miniconda3/lib/python3.9/site-packages/keras/engine/training.py\", line 860, in run_step  **\n        outputs = model.train_step(data)\n    File \"/Users/JeroenArians/opt/miniconda3/lib/python3.9/site-packages/keras/engine/training.py\", line 808, in train_step\n        y_pred = self(x, training=True)\n    File \"/Users/JeroenArians/opt/miniconda3/lib/python3.9/site-packages/keras/utils/traceback_utils.py\", line 67, in error_handler\n        raise e.with_traceback(filtered_tb) from None\n    File \"/Users/JeroenArians/opt/miniconda3/lib/python3.9/site-packages/keras/engine/input_spec.py\", line 227, in assert_input_compatibility\n        raise ValueError(f'Input {input_index} of layer \"{layer_name}\" '\n\n    ValueError: Exception encountered when calling layer \"sequential_5\" (type Sequential).\n    \n    Input 0 of layer \"dense_25\" is incompatible with the layer: expected min_ndim=2, found ndim=1. Full shape received: (None,)\n    \n    Call arguments received:\n      • inputs=tf.Tensor(shape=(None,), dtype=string)\n      • training=True\n      • mask=None\n",
     "output_type": "error",
     "traceback": [
      "\u001b[0;31m---------------------------------------------------------------------------\u001b[0m",
      "\u001b[0;31mValueError\u001b[0m                                Traceback (most recent call last)",
      "Cell \u001b[0;32mIn [28], line 1\u001b[0m\n\u001b[0;32m----> 1\u001b[0m LearningModel\u001b[38;5;241m.\u001b[39mfit(distanceLearning, distanceLearning, epochs\u001b[38;5;241m=\u001b[39m\u001b[38;5;241m530\u001b[39m)\n",
      "File \u001b[0;32m~/opt/miniconda3/lib/python3.9/site-packages/keras/utils/traceback_utils.py:67\u001b[0m, in \u001b[0;36mfilter_traceback.<locals>.error_handler\u001b[0;34m(*args, **kwargs)\u001b[0m\n\u001b[1;32m     65\u001b[0m \u001b[38;5;28;01mexcept\u001b[39;00m \u001b[38;5;167;01mException\u001b[39;00m \u001b[38;5;28;01mas\u001b[39;00m e:  \u001b[38;5;66;03m# pylint: disable=broad-except\u001b[39;00m\n\u001b[1;32m     66\u001b[0m   filtered_tb \u001b[38;5;241m=\u001b[39m _process_traceback_frames(e\u001b[38;5;241m.\u001b[39m__traceback__)\n\u001b[0;32m---> 67\u001b[0m   \u001b[38;5;28;01mraise\u001b[39;00m e\u001b[38;5;241m.\u001b[39mwith_traceback(filtered_tb) \u001b[38;5;28;01mfrom\u001b[39;00m \u001b[38;5;28mNone\u001b[39m\n\u001b[1;32m     68\u001b[0m \u001b[38;5;28;01mfinally\u001b[39;00m:\n\u001b[1;32m     69\u001b[0m   \u001b[38;5;28;01mdel\u001b[39;00m filtered_tb\n",
      "File \u001b[0;32m~/opt/miniconda3/lib/python3.9/site-packages/tensorflow/python/framework/func_graph.py:1129\u001b[0m, in \u001b[0;36mfunc_graph_from_py_func.<locals>.autograph_handler\u001b[0;34m(*args, **kwargs)\u001b[0m\n\u001b[1;32m   1127\u001b[0m \u001b[38;5;28;01mexcept\u001b[39;00m \u001b[38;5;167;01mException\u001b[39;00m \u001b[38;5;28;01mas\u001b[39;00m e:  \u001b[38;5;66;03m# pylint:disable=broad-except\u001b[39;00m\n\u001b[1;32m   1128\u001b[0m   \u001b[38;5;28;01mif\u001b[39;00m \u001b[38;5;28mhasattr\u001b[39m(e, \u001b[38;5;124m\"\u001b[39m\u001b[38;5;124mag_error_metadata\u001b[39m\u001b[38;5;124m\"\u001b[39m):\n\u001b[0;32m-> 1129\u001b[0m     \u001b[38;5;28;01mraise\u001b[39;00m e\u001b[38;5;241m.\u001b[39mag_error_metadata\u001b[38;5;241m.\u001b[39mto_exception(e)\n\u001b[1;32m   1130\u001b[0m   \u001b[38;5;28;01melse\u001b[39;00m:\n\u001b[1;32m   1131\u001b[0m     \u001b[38;5;28;01mraise\u001b[39;00m\n",
      "\u001b[0;31mValueError\u001b[0m: in user code:\n\n    File \"/Users/JeroenArians/opt/miniconda3/lib/python3.9/site-packages/keras/engine/training.py\", line 878, in train_function  *\n        return step_function(self, iterator)\n    File \"/Users/JeroenArians/opt/miniconda3/lib/python3.9/site-packages/keras/engine/training.py\", line 867, in step_function  **\n        outputs = model.distribute_strategy.run(run_step, args=(data,))\n    File \"/Users/JeroenArians/opt/miniconda3/lib/python3.9/site-packages/keras/engine/training.py\", line 860, in run_step  **\n        outputs = model.train_step(data)\n    File \"/Users/JeroenArians/opt/miniconda3/lib/python3.9/site-packages/keras/engine/training.py\", line 808, in train_step\n        y_pred = self(x, training=True)\n    File \"/Users/JeroenArians/opt/miniconda3/lib/python3.9/site-packages/keras/utils/traceback_utils.py\", line 67, in error_handler\n        raise e.with_traceback(filtered_tb) from None\n    File \"/Users/JeroenArians/opt/miniconda3/lib/python3.9/site-packages/keras/engine/input_spec.py\", line 227, in assert_input_compatibility\n        raise ValueError(f'Input {input_index} of layer \"{layer_name}\" '\n\n    ValueError: Exception encountered when calling layer \"sequential_5\" (type Sequential).\n    \n    Input 0 of layer \"dense_25\" is incompatible with the layer: expected min_ndim=2, found ndim=1. Full shape received: (None,)\n    \n    Call arguments received:\n      • inputs=tf.Tensor(shape=(None,), dtype=string)\n      • training=True\n      • mask=None\n"
     ]
    }
   ],
   "source": [
    "LearningModel.fit(distanceLearning, distanceLearning, epochs=530)"
   ]
  },
  {
   "cell_type": "code",
   "execution_count": null,
   "id": "6bd8cb26-a6a7-4690-9891-8fa9931db27f",
   "metadata": {},
   "outputs": [],
   "source": []
  }
 ],
 "metadata": {
  "kernelspec": {
   "display_name": "Python 3 (ipykernel)",
   "language": "python",
   "name": "python3"
  },
  "language_info": {
   "codemirror_mode": {
    "name": "ipython",
    "version": 3
   },
   "file_extension": ".py",
   "mimetype": "text/x-python",
   "name": "python",
   "nbconvert_exporter": "python",
   "pygments_lexer": "ipython3",
   "version": "3.9.13"
  }
 },
 "nbformat": 4,
 "nbformat_minor": 5
}
