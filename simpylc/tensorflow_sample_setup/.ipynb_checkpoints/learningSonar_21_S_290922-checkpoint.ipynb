{
 "cells": [
  {
   "cell_type": "code",
   "execution_count": null,
   "id": "e7f234b6-99ae-4b70-8cf7-50ebc8d02618",
   "metadata": {},
   "outputs": [],
   "source": [
    "import pandas as pd\n",
    "# print(pd.__version__)\n",
    "import numpy as np\n",
    "\n",
    "# ke numpy values easier to read.\n",
    "np.set_printoptions(precision=3, suppress=True)\n",
    "import tensorflow as tf\n",
    "\n",
    "from tensorflow.keras import layers\n",
    "from tensorflow.keras.models import Model #opslaan "
   ]
  },
  {
   "cell_type": "code",
   "execution_count": null,
   "id": "c08bd076-bf1f-4d68-a125-e24a67b13615",
   "metadata": {},
   "outputs": [],
   "source": [
    "S_290922_21 = pd.read_csv(\n",
    "    \"/Users/JeroenArians/MakeAIWork/simpylc/default_samples_files/csv/21_S_290922.csv\",\n",
    "    names=[\"distance 01\", \"distance 02\",\"distance 03\", \"angle\"])\n",
    "\n",
    "# S_290922_21.head()"
   ]
  },
  {
   "cell_type": "code",
   "execution_count": null,
   "id": "1c562f89-e955-4069-8138-d75a5c6311ce",
   "metadata": {},
   "outputs": [],
   "source": [
    "distance = S_290922_21.copy()\n",
    "steeringAngle = distance.pop('angle')\n",
    "# steeringAngle.head()"
   ]
  },
  {
   "cell_type": "code",
   "execution_count": 209,
   "id": "4f280300-b536-4bda-a2b1-b676630addf5",
   "metadata": {},
   "outputs": [],
   "source": [
    "distance = np.array(distance)\n",
    "# distance"
   ]
  },
  {
   "cell_type": "code",
   "execution_count": null,
   "id": "cc3d7733-daaf-47a7-aa66-94c433fe4bce",
   "metadata": {},
   "outputs": [],
   "source": [
    "LearningModel = tf.keras.Sequential([\n",
    "    layers.Input(shape=(3)),\n",
    "    layers.Dense(8, activation = 'relu'),\n",
    "    layers.Dense(8, activation = 'relu'),\n",
    "    layers.Dense(1)\n",
    "])\n",
    "\n",
    "LearningModel.compile(loss = tf.keras.losses.MeanSquaredError(), metrics=['accuracy'],\n",
    "                      optimizer = tf.keras.optimizers.Adam(learning_rate=0.001))"
   ]
  },
  {
   "cell_type": "code",
   "execution_count": null,
   "id": "eb79cde3-6fcd-46d6-814d-17d553cac4eb",
   "metadata": {},
   "outputs": [],
   "source": [
    "LearningModel.fit(distance, steeringAngle, epochs=200)\n"
   ]
  },
  {
   "cell_type": "code",
   "execution_count": null,
   "id": "4737dd25-78a9-4085-9120-5c36822617bf",
   "metadata": {},
   "outputs": [],
   "source": [
    "LearningModel.save('learningModal_2')"
   ]
  },
  {
   "cell_type": "code",
   "execution_count": null,
   "id": "6bd8cb26-a6a7-4690-9891-8fa9931db27f",
   "metadata": {},
   "outputs": [],
   "source": [
    " def func(*args, **kwargs):\n",
    "     print(args)\n",
    "     print(kwargs)"
   ]
  }
 ],
 "metadata": {
  "kernelspec": {
   "display_name": "Python 3 (ipykernel)",
   "language": "python",
   "name": "python3"
  },
  "language_info": {
   "codemirror_mode": {
    "name": "ipython",
    "version": 3
   },
   "file_extension": ".py",
   "mimetype": "text/x-python",
   "name": "python",
   "nbconvert_exporter": "python",
   "pygments_lexer": "ipython3",
   "version": "3.9.13"
  }
 },
 "nbformat": 4,
 "nbformat_minor": 5
}
