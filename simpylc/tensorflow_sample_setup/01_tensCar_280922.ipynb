{
 "cells": [
  {
   "cell_type": "raw",
   "id": "cf2eff71-4edc-465f-8ff7-66f36114372e",
   "metadata": {},
   "source": [
    "'''\n",
    "Oproepen data van Car simulator in TensorTlow\n",
    "'''"
   ]
  },
  {
   "cell_type": "code",
   "execution_count": 4,
   "id": "e9148131-4c03-4654-a338-10845554e159",
   "metadata": {},
   "outputs": [
    {
     "name": "stdout",
     "output_type": "stream",
     "text": [
      "1.5.0\n"
     ]
    }
   ],
   "source": [
    "import pandas as pd \n",
    "import numpy as np\n",
    "\n",
    "np.set_printoptions(precision=3, suppres=True)\n",
    "\n",
    "import tentsoflow as tf\n",
    "from tensorflow.keras import layers "
   ]
  },
  {
   "cell_type": "code",
   "execution_count": null,
   "id": "b35b414c-b569-4cad-98fb-05cfec515c87",
   "metadata": {},
   "outputs": [],
   "source": []
  }
 ],
 "metadata": {
  "kernelspec": {
   "display_name": "Python 3 (ipykernel)",
   "language": "python",
   "name": "python3"
  },
  "language_info": {
   "codemirror_mode": {
    "name": "ipython",
    "version": 3
   },
   "file_extension": ".py",
   "mimetype": "text/x-python",
   "name": "python",
   "nbconvert_exporter": "python",
   "pygments_lexer": "ipython3",
   "version": "3.9.13"
  }
 },
 "nbformat": 4,
 "nbformat_minor": 5
}
