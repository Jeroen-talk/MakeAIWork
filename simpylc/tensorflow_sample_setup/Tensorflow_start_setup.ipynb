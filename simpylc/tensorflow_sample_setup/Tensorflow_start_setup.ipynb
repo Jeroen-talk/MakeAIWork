{
 "cells": [
  {
   "cell_type": "code",
   "execution_count": 21,
   "id": "fb0edb38-4579-4461-92ff-df0685d94638",
   "metadata": {},
   "outputs": [],
   "source": [
    "# https://www.tensorflow.org/tutorials/load_data/csv\n"
   ]
  },
  {
   "cell_type": "code",
   "execution_count": 22,
   "id": "3a801bb8-d56c-4afd-9202-8789a22b446b",
   "metadata": {},
   "outputs": [],
   "source": [
    "import pandas as pd\n",
    "# print(pd.__version__)\n",
    "import numpy as np\n",
    "\n",
    "# ke numpy values easier to read.\n",
    "np.set_printoptions(precision=3, suppress=True)\n",
    "\n",
    "import tensorflow as tf\n",
    "from tensorflow.keras import layers"
   ]
  },
  {
   "cell_type": "code",
   "execution_count": 23,
   "id": "0eb55e30-3900-4d93-9794-0aa61aead802",
   "metadata": {},
   "outputs": [
    {
     "data": {
      "text/html": [
       "<div>\n",
       "<style scoped>\n",
       "    .dataframe tbody tr th:only-of-type {\n",
       "        vertical-align: middle;\n",
       "    }\n",
       "\n",
       "    .dataframe tbody tr th {\n",
       "        vertical-align: top;\n",
       "    }\n",
       "\n",
       "    .dataframe thead th {\n",
       "        text-align: right;\n",
       "    }\n",
       "</style>\n",
       "<table border=\"1\" class=\"dataframe\">\n",
       "  <thead>\n",
       "    <tr style=\"text-align: right;\">\n",
       "      <th></th>\n",
       "      <th>Length</th>\n",
       "      <th>Diameter</th>\n",
       "      <th>Height</th>\n",
       "      <th>Whole weight</th>\n",
       "      <th>Shucked weight</th>\n",
       "      <th>Viscera weight</th>\n",
       "      <th>Shell weight</th>\n",
       "      <th>Age</th>\n",
       "    </tr>\n",
       "  </thead>\n",
       "  <tbody>\n",
       "    <tr>\n",
       "      <th>0</th>\n",
       "      <td>0.435</td>\n",
       "      <td>0.335</td>\n",
       "      <td>0.110</td>\n",
       "      <td>0.334</td>\n",
       "      <td>0.1355</td>\n",
       "      <td>0.0775</td>\n",
       "      <td>0.0965</td>\n",
       "      <td>7</td>\n",
       "    </tr>\n",
       "    <tr>\n",
       "      <th>1</th>\n",
       "      <td>0.585</td>\n",
       "      <td>0.450</td>\n",
       "      <td>0.125</td>\n",
       "      <td>0.874</td>\n",
       "      <td>0.3545</td>\n",
       "      <td>0.2075</td>\n",
       "      <td>0.2250</td>\n",
       "      <td>6</td>\n",
       "    </tr>\n",
       "    <tr>\n",
       "      <th>2</th>\n",
       "      <td>0.655</td>\n",
       "      <td>0.510</td>\n",
       "      <td>0.160</td>\n",
       "      <td>1.092</td>\n",
       "      <td>0.3960</td>\n",
       "      <td>0.2825</td>\n",
       "      <td>0.3700</td>\n",
       "      <td>14</td>\n",
       "    </tr>\n",
       "    <tr>\n",
       "      <th>3</th>\n",
       "      <td>0.545</td>\n",
       "      <td>0.425</td>\n",
       "      <td>0.125</td>\n",
       "      <td>0.768</td>\n",
       "      <td>0.2940</td>\n",
       "      <td>0.1495</td>\n",
       "      <td>0.2600</td>\n",
       "      <td>16</td>\n",
       "    </tr>\n",
       "    <tr>\n",
       "      <th>4</th>\n",
       "      <td>0.545</td>\n",
       "      <td>0.420</td>\n",
       "      <td>0.130</td>\n",
       "      <td>0.879</td>\n",
       "      <td>0.3740</td>\n",
       "      <td>0.1695</td>\n",
       "      <td>0.2300</td>\n",
       "      <td>13</td>\n",
       "    </tr>\n",
       "  </tbody>\n",
       "</table>\n",
       "</div>"
      ],
      "text/plain": [
       "   Length  Diameter  Height  Whole weight  Shucked weight  Viscera weight  \\\n",
       "0   0.435     0.335   0.110         0.334          0.1355          0.0775   \n",
       "1   0.585     0.450   0.125         0.874          0.3545          0.2075   \n",
       "2   0.655     0.510   0.160         1.092          0.3960          0.2825   \n",
       "3   0.545     0.425   0.125         0.768          0.2940          0.1495   \n",
       "4   0.545     0.420   0.130         0.879          0.3740          0.1695   \n",
       "\n",
       "   Shell weight  Age  \n",
       "0        0.0965    7  \n",
       "1        0.2250    6  \n",
       "2        0.3700   14  \n",
       "3        0.2600   16  \n",
       "4        0.2300   13  "
      ]
     },
     "execution_count": 23,
     "metadata": {},
     "output_type": "execute_result"
    }
   ],
   "source": [
    "abalone_train = pd.read_csv(\n",
    "    \"/Users/JeroenArians/MakeAIWork/simpylc/tensorflow_sample_setup/abalone_train.csv\",\n",
    "    names=[\"Length\", \"Diameter\", \"Height\", \"Whole weight\", \"Shucked weight\",\n",
    "           \"Viscera weight\", \"Shell weight\", \"Age\"])\n",
    "\n",
    "abalone_train.head()"
   ]
  },
  {
   "cell_type": "code",
   "execution_count": 31,
   "id": "1d2b4e85-fbdf-44de-b40f-99a247d39759",
   "metadata": {},
   "outputs": [
    {
     "name": "stdout",
     "output_type": "stream",
     "text": [
      "      Length  Diameter  Height  Whole weight  Shucked weight  Viscera weight  \\\n",
      "0      0.435     0.335   0.110        0.3340          0.1355          0.0775   \n",
      "1      0.585     0.450   0.125        0.8740          0.3545          0.2075   \n",
      "2      0.655     0.510   0.160        1.0920          0.3960          0.2825   \n",
      "3      0.545     0.425   0.125        0.7680          0.2940          0.1495   \n",
      "4      0.545     0.420   0.130        0.8790          0.3740          0.1695   \n",
      "...      ...       ...     ...           ...             ...             ...   \n",
      "3315   0.605     0.475   0.180        0.9365          0.3940          0.2190   \n",
      "3316   0.700     0.525   0.190        1.6015          0.7070          0.3650   \n",
      "3317   0.530     0.420   0.130        0.8365          0.3745          0.1670   \n",
      "3318   0.395     0.315   0.105        0.3515          0.1185          0.0910   \n",
      "3319   0.450     0.355   0.120        0.4120          0.1145          0.0665   \n",
      "\n",
      "      Shell weight  Age  \n",
      "0           0.0965    7  \n",
      "1           0.2250    6  \n",
      "2           0.3700   14  \n",
      "3           0.2600   16  \n",
      "4           0.2300   13  \n",
      "...            ...  ...  \n",
      "3315        0.2950   15  \n",
      "3316        0.4300   10  \n",
      "3317        0.2490   11  \n",
      "3318        0.1195   16  \n",
      "3319        0.1600   19  \n",
      "\n",
      "[3320 rows x 8 columns]\n"
     ]
    }
   ],
   "source": [
    "# print(abalone_train)"
   ]
  },
  {
   "cell_type": "code",
   "execution_count": 25,
   "id": "40fadfff-5c9a-45ec-b87e-ae68b612d421",
   "metadata": {},
   "outputs": [],
   "source": [
    "abalone_features = abalone_train.copy()\n",
    "abalone_labels = abalone_features.pop('Age')\n",
    "# abalone_features.head(2)"
   ]
  },
  {
   "cell_type": "code",
   "execution_count": 26,
   "id": "2a327ef0-6fb5-43ca-a3e1-e8f70d8d2d11",
   "metadata": {},
   "outputs": [],
   "source": [
    "# print(abalone_features)"
   ]
  },
  {
   "cell_type": "code",
   "execution_count": 27,
   "id": "05f2fa53-767f-4428-8118-316e29522113",
   "metadata": {},
   "outputs": [],
   "source": [
    "# abalone_labels.head()"
   ]
  },
  {
   "cell_type": "code",
   "execution_count": 28,
   "id": "dbc9c2a5-fc4a-4295-a691-bd44f4c1261b",
   "metadata": {},
   "outputs": [
    {
     "data": {
      "text/plain": [
       "array([[0.435, 0.335, 0.11 , ..., 0.136, 0.077, 0.097],\n",
       "       [0.585, 0.45 , 0.125, ..., 0.354, 0.207, 0.225],\n",
       "       [0.655, 0.51 , 0.16 , ..., 0.396, 0.282, 0.37 ],\n",
       "       ...,\n",
       "       [0.53 , 0.42 , 0.13 , ..., 0.374, 0.167, 0.249],\n",
       "       [0.395, 0.315, 0.105, ..., 0.118, 0.091, 0.119],\n",
       "       [0.45 , 0.355, 0.12 , ..., 0.115, 0.067, 0.16 ]])"
      ]
     },
     "execution_count": 28,
     "metadata": {},
     "output_type": "execute_result"
    }
   ],
   "source": [
    "abalone_features = np.array(abalone_features)\n",
    "abalone_features"
   ]
  },
  {
   "cell_type": "code",
   "execution_count": 29,
   "id": "839a7df2-c8dc-4705-9d71-5fc41e7c8e27",
   "metadata": {},
   "outputs": [],
   "source": [
    "abalone_model = tf.keras.Sequential([\n",
    "  layers.Dense(64),\n",
    "  layers.Dense(1)\n",
    "])\n",
    "\n",
    "abalone_model.compile(loss = tf.keras.losses.MeanSquaredError(),\n",
    "                      optimizer = tf.keras.optimizers.Adam())"
   ]
  },
  {
   "cell_type": "code",
   "execution_count": 30,
   "id": "eebed64f-bed2-4d0c-b34d-406e226f2894",
   "metadata": {},
   "outputs": [
    {
     "name": "stdout",
     "output_type": "stream",
     "text": [
      "Epoch 1/10\n",
      "104/104 [==============================] - 0s 883us/step - loss: 59.1491\n",
      "Epoch 2/10\n",
      "104/104 [==============================] - 0s 845us/step - loss: 11.7350\n",
      "Epoch 3/10\n",
      "104/104 [==============================] - 0s 850us/step - loss: 8.8427\n",
      "Epoch 4/10\n",
      "104/104 [==============================] - 0s 868us/step - loss: 8.2441\n",
      "Epoch 5/10\n",
      "104/104 [==============================] - 0s 916us/step - loss: 7.7193\n",
      "Epoch 6/10\n",
      "104/104 [==============================] - 0s 914us/step - loss: 7.3025\n",
      "Epoch 7/10\n",
      "104/104 [==============================] - 0s 970us/step - loss: 6.9909\n",
      "Epoch 8/10\n",
      "104/104 [==============================] - 0s 954us/step - loss: 6.7772\n",
      "Epoch 9/10\n",
      "104/104 [==============================] - 0s 919us/step - loss: 6.6322\n",
      "Epoch 10/10\n",
      "104/104 [==============================] - 0s 920us/step - loss: 6.5265\n"
     ]
    },
    {
     "data": {
      "text/plain": [
       "<keras.callbacks.History at 0x189cf3880>"
      ]
     },
     "execution_count": 30,
     "metadata": {},
     "output_type": "execute_result"
    }
   ],
   "source": [
    "abalone_model.fit(abalone_features, abalone_labels, epochs=10)"
   ]
  },
  {
   "cell_type": "code",
   "execution_count": null,
   "id": "5a517549-a966-4094-9c7a-467c498d2d27",
   "metadata": {},
   "outputs": [],
   "source": []
  }
 ],
 "metadata": {
  "kernelspec": {
   "display_name": "Python 3 (ipykernel)",
   "language": "python",
   "name": "python3"
  },
  "language_info": {
   "codemirror_mode": {
    "name": "ipython",
    "version": 3
   },
   "file_extension": ".py",
   "mimetype": "text/x-python",
   "name": "python",
   "nbconvert_exporter": "python",
   "pygments_lexer": "ipython3",
   "version": "3.9.13"
  }
 },
 "nbformat": 4,
 "nbformat_minor": 5
}
