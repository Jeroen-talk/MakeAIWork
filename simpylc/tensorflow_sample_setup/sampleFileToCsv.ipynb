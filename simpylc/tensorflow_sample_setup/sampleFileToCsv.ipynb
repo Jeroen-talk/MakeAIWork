{
 "cells": [
  {
   "cell_type": "raw",
   "id": "cf2eff71-4edc-465f-8ff7-66f36114372e",
   "metadata": {},
   "source": [
    "'''\n",
    "Oproepen data van Car simulator in TensorTlow\n",
    "'''"
   ]
  },
  {
   "cell_type": "code",
   "execution_count": 79,
   "id": "e9148131-4c03-4654-a338-10845554e159",
   "metadata": {},
   "outputs": [],
   "source": [
    "import pandas as pd\n",
    "import numpy as np\n",
    "import csv\n",
    "from pathlib import Path\n",
    "np.set_printoptions(precision=3, suppress=True)\n",
    "\n",
    "import tensorflow as tf\n",
    "\n",
    "from tensorflow.keras import layers"
   ]
  },
  {
   "cell_type": "code",
   "execution_count": 168,
   "id": "43e42973-5da9-4a6b-aafc-a77b6583b25f",
   "metadata": {},
   "outputs": [],
   "source": [
    "# maak een string van data set\n",
    "\n",
    "fileConvertLidar = Path(\"/Users/JeroenArians/MakeAIWork/simpylc/default_samples_files/14_L_280922.samples\").read_text()\n",
    "# fileConvertLidar = txt.replace('\\n', '')\n",
    "\n",
    "def Convert(string):\n",
    "    li = list(string.split(\" \"))\n",
    "    return li\n",
    "lidarData =(Convert(fileConvertLidar))\n",
    "# print(type(lidarData))\n",
    "# print(Convert(fileConvertLidar))\n"
   ]
  },
  {
   "cell_type": "code",
   "execution_count": 169,
   "id": "3eb70612-e10e-43d3-b5ac-ca5219cd40ed",
   "metadata": {},
   "outputs": [],
   "source": [
    "# listLidar = np.array(lidarData)"
   ]
  },
  {
   "cell_type": "code",
   "execution_count": 170,
   "id": "5604abff-d291-4265-bd7f-cc03f594cd2f",
   "metadata": {},
   "outputs": [],
   "source": [
    "df = pd.DataFrame(lidarData)\n"
   ]
  },
  {
   "cell_type": "code",
   "execution_count": 171,
   "id": "0e723d1e-3dc2-490d-8d55-5076acbe78bb",
   "metadata": {},
   "outputs": [],
   "source": [
    "lidarFile = lidarData.copy()\n",
    "# lidarData = lidarFile([-1])"
   ]
  },
  {
   "cell_type": "code",
   "execution_count": 172,
   "id": "b35b414c-b569-4cad-98fb-05cfec515c87",
   "metadata": {},
   "outputs": [],
   "source": [
    "LidarHeader = [\"distance 01\", \"distance 02\",\"distance 03\",\"distance 04\", \"distance 05\", \"distance 06\",\"distance 07\",\"distance 08\",\"distance 09\",\"distance 10\",\"distance 11\",\"distance 12\",\"distance 13\",\"distance 14\",\"distance 15\",\"distance 16\", \"angle\"]               \n",
    "with open('learningFile.csv', 'w', encoding='UTF8', newline='') as file:\n",
    " \n",
    "    writer = csv.writer(file)\n",
    "\n",
    "    writer.writerow(LidarHeader)\n",
    "    writer.writerows(Convert(fileConvertLidar))\n"
   ]
  },
  {
   "cell_type": "code",
   "execution_count": null,
   "id": "2ab03a24-3c9d-40bd-8d10-a5feb8c78390",
   "metadata": {},
   "outputs": [],
   "source": []
  }
 ],
 "metadata": {
  "kernelspec": {
   "display_name": "Python 3 (ipykernel)",
   "language": "python",
   "name": "python3"
  },
  "language_info": {
   "codemirror_mode": {
    "name": "ipython",
    "version": 3
   },
   "file_extension": ".py",
   "mimetype": "text/x-python",
   "name": "python",
   "nbconvert_exporter": "python",
   "pygments_lexer": "ipython3",
   "version": "3.9.13"
  }
 },
 "nbformat": 4,
 "nbformat_minor": 5
}
