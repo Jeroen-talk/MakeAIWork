{
 "cells": [
  {
   "cell_type": "markdown",
   "id": "783305be-8517-4058-a458-23956ad0be80",
   "metadata": {
    "jp-MarkdownHeadingCollapsed": true,
    "tags": []
   },
   "source": [
    "### Imports"
   ]
  },
  {
   "cell_type": "code",
   "execution_count": 26,
   "id": "7ad7ed7f-ad3f-46cd-9b05-b424251cf191",
   "metadata": {},
   "outputs": [],
   "source": [
    "#!pip install ipywidgets"
   ]
  },
  {
   "cell_type": "code",
   "execution_count": 27,
   "id": "392d5d78-a879-492f-ab43-d12b79c0af6c",
   "metadata": {},
   "outputs": [],
   "source": [
    "from ipywidgets import interact\n",
    "import matplotlib.pyplot as plt\n",
    "import random as rnd\n",
    "import math\n",
    "import time"
   ]
  },
  {
   "cell_type": "markdown",
   "id": "bb47051d-0426-4e47-b9ef-9e610fd51c18",
   "metadata": {
    "tags": []
   },
   "source": [
    "# Machine Learning"
   ]
  },
  {
   "cell_type": "markdown",
   "id": "e2eb9983-c570-4454-8195-6c64977c659c",
   "metadata": {
    "jp-MarkdownHeadingCollapsed": true,
    "tags": []
   },
   "source": [
    "### Bronnen"
   ]
  },
  {
   "cell_type": "markdown",
   "id": "45f3a8dc-4d1a-46aa-b4e9-89c24cfb16f0",
   "metadata": {},
   "source": [
    "**Fast.ai**\n",
    "\n",
    "+ [Practical Deep Learning for Coders](https://course.fast.ai/)\n",
    "+ [Neural net foundations](https://course.fast.ai/Lessons/lesson3.html)\n",
    "\n",
    "**CodingTrain**:\n",
    "\n",
    "+ [Linear Regression with Gradient Descent](https://www.youtube.com/watch?v=L-Lsfu4ab74)\n",
    "+ [Mathematics of Gradient Descent](https://www.youtube.com/watch?v=jc2IthslyzM)"
   ]
  },
  {
   "cell_type": "markdown",
   "id": "079a9765-fa1d-4225-b339-c52cc87727ba",
   "metadata": {
    "tags": []
   },
   "source": [
    "### Huisprijs model"
   ]
  },
  {
   "cell_type": "markdown",
   "id": "b32c6aad-ed24-476d-8289-c7fe41db0959",
   "metadata": {},
   "source": [
    "+ **prijs** wordt bepaald door **prijs per vierkante meter** en **vaste grondprijs**\n",
    "+ p = m*x + b"
   ]
  },
  {
   "cell_type": "markdown",
   "id": "76412025-3e68-4c79-90a1-98a8f02ba192",
   "metadata": {
    "tags": []
   },
   "source": [
    "### Data"
   ]
  },
  {
   "cell_type": "code",
   "execution_count": 28,
   "id": "689fee69-062e-4dd9-b642-1a15b22a84ed",
   "metadata": {},
   "outputs": [],
   "source": [
    "m2 = [100, 110, 120, 130, 140, 150, 160, 170, 180, 190, 200, 210, 220, 230, 240, 250, 260, 270, 280, 290, 300, 310, 320, 330, 340, 350, 360, 370, 380, 390, 400, 410, 420, 430, 440, 450, 460, 470, 480, 490, 500, 510, 520, 530, 540, 550, 560, 570, 580, 590, 600, 610, 620, 630, 640, 650, 660, 670, 680, 690, 700, 710, 720, 730, 740, 750, 760, 770, 780, 790, 800, 810, 820, 830, 840, 850, 860, 870, 880, 890, 900, 910, 920, 930, 940, 950, 960, 970, 980, 990]"
   ]
  },
  {
   "cell_type": "code",
   "execution_count": 29,
   "id": "de8dba48-750c-4ecb-8740-856c0c40e6cb",
   "metadata": {},
   "outputs": [],
   "source": [
    "prices = [384.91367692954503, 389.8967479767937, 401.20788969026364, 465.1388607569204, 414.0688201351979, 325.18526099613297, 460.2622840847401, 425.28637650519823, 435.81289210983635, 466.1119350690599, 481.26084158347044, 553.44910806194, 524.9645554759068, 493.73550242106825, 441.31748783586255, 428.9736342758598, 524.2439536647842, 605.7756579042834, 523.9159804732369, 520.5573694360451, 572.2243354280608, 440.25182913939256, 527.1405877998808, 590.3253772815467, 624.1383069765612, 553.1559229141405, 603.3619901081537, 601.374941452989, 645.7628766092549, 520.074445002628, 644.777548130977, 505.9835725792402, 435.60382044468037, 583.5176490260349, 568.8932967557804, 701.3208570139484, 693.4986129729026, 568.6647681093013, 720.31529963436, 597.8458023030355, 668.9629307564601, 661.4270155430428, 697.0093900222645, 753.3045418080637, 747.688965355471, 734.4919571308446, 762.4963668464409, 757.4944426355083, 687.111017434628, 687.7840234328396, 712.102220810479, 786.9528480333747, 741.4919100301831, 929.5027955736383, 715.6495220469454, 703.0787780068489, 840.7931460828787, 893.5294986940426, 836.3984883587482, 866.5072142177371, 914.8441484209513, 815.4180766788587, 729.3928746802716, 798.7546416176901, 909.7027030121603, 748.9425115745198, 859.3471924551083, 881.7266151539443, 848.9085484630431, 928.6542390457668, 925.6545819068597, 1054.4985961830512, 942.3977437441195, 863.3417578949857, 873.6741685366178, 861.7893229130596, 993.6591491871075, 894.321701563041, 936.0817458409582, 1000.4511833502772, 904.3575906544015, 941.4439425467597, 840.1099614077259, 900.2264966672901, 943.2584511465706, 1019.103269196167, 1080.5445290710309, 1002.7073230785402, 1029.2954995439861, 1029.7578557983063]"
   ]
  },
  {
   "cell_type": "code",
   "execution_count": 30,
   "id": "e341b753-f198-4432-a349-e9b9f7e8bd1d",
   "metadata": {},
   "outputs": [
    {
     "name": "stdout",
     "output_type": "stream",
     "text": [
      "[384.91367692954503, 389.8967479767937, 401.20788969026364, 465.1388607569204, 414.0688201351979, 325.18526099613297, 460.2622840847401, 425.28637650519823, 435.81289210983635, 466.1119350690599, 481.26084158347044, 553.44910806194, 524.9645554759068, 493.73550242106825, 441.31748783586255, 428.9736342758598, 524.2439536647842, 605.7756579042834, 523.9159804732369, 520.5573694360451, 572.2243354280608, 440.25182913939256, 527.1405877998808, 590.3253772815467, 624.1383069765612, 553.1559229141405, 603.3619901081537, 601.374941452989, 645.7628766092549, 520.074445002628, 644.777548130977, 505.9835725792402, 435.60382044468037, 583.5176490260349, 568.8932967557804, 701.3208570139484, 693.4986129729026, 568.6647681093013, 720.31529963436, 597.8458023030355, 668.9629307564601, 661.4270155430428, 697.0093900222645, 753.3045418080637, 747.688965355471, 734.4919571308446, 762.4963668464409, 757.4944426355083, 687.111017434628, 687.7840234328396, 712.102220810479, 786.9528480333747, 741.4919100301831, 929.5027955736383, 715.6495220469454, 703.0787780068489, 840.7931460828787, 893.5294986940426, 836.3984883587482, 866.5072142177371, 914.8441484209513, 815.4180766788587, 729.3928746802716, 798.7546416176901, 909.7027030121603, 748.9425115745198, 859.3471924551083, 881.7266151539443, 848.9085484630431, 928.6542390457668, 925.6545819068597, 1054.4985961830512, 942.3977437441195, 863.3417578949857, 873.6741685366178, 861.7893229130596, 993.6591491871075, 894.321701563041, 936.0817458409582, 1000.4511833502772, 904.3575906544015, 941.4439425467597, 840.1099614077259, 900.2264966672901, 943.2584511465706, 1019.103269196167, 1080.5445290710309, 1002.7073230785402, 1029.2954995439861, 1029.7578557983063]\n"
     ]
    }
   ],
   "source": [
    "print(prices)"
   ]
  },
  {
   "cell_type": "markdown",
   "id": "c46adc44-592b-47bd-8496-4846784a3a9d",
   "metadata": {
    "tags": []
   },
   "source": [
    "### Handmatig matchen\n",
    "uitdaging: wie matcht het best?"
   ]
  },
  {
   "cell_type": "code",
   "execution_count": 39,
   "id": "192806ff-291c-4c27-83ac-22b14753bbb7",
   "metadata": {},
   "outputs": [
    {
     "data": {
      "application/vnd.jupyter.widget-view+json": {
       "model_id": "9533c594ef204c66b8308407e8aff836",
       "version_major": 2,
       "version_minor": 0
      },
      "text/plain": [
       "interactive(children=(FloatSlider(value=0.0, description='m', max=2.0, min=-2.0, step=0.01), IntSlider(value=0…"
      ]
     },
     "metadata": {},
     "output_type": "display_data"
    },
    {
     "data": {
      "text/plain": [
       "<function __main__.manualFit(m, b)>"
      ]
     },
     "execution_count": 39,
     "metadata": {},
     "output_type": "execute_result"
    }
   ],
   "source": [
    "def manualFit(m, b):\n",
    "    fit = [m * x + b for x in m2]\n",
    "    \n",
    "    fig, ax = plt.subplots()\n",
    "\n",
    "    ax.set(xlim=[0, 1100], ylim=[0, 1100], xlabel='Oppervlakte in m2', ylabel='Prijs in duizend euro', title='Huisprijs')\n",
    "    \n",
    "    plt.scatter(m2, prices)\n",
    "    plt.plot(m2, fit, 'red')\n",
    "    \n",
    "    plt.show()\n",
    "\n",
    "    print(loss(fit))\n",
    "\n",
    "\n",
    "interact(manualFit, m=(-2,2,0.01), b=(-1000,1000))\n",
    "\n"
   ]
  },
  {
   "cell_type": "markdown",
   "id": "e8a06ddd-344a-42a6-8fc5-3bccc20376a4",
   "metadata": {
    "tags": []
   },
   "source": [
    "### Toevoegen error & loss"
   ]
  },
  {
   "cell_type": "code",
   "execution_count": 38,
   "id": "5fd85712",
   "metadata": {},
   "outputs": [],
   "source": [
    "def error(actual, predicted):\n",
    "    return actual - predicted\n",
    "\n",
    "def loss(fit):\n",
    "    l=0\n",
    "    # um of squered errors\n",
    "    for i in range(0 , len(m2)):\n",
    "        err = error(prices[1], fit[i])\n",
    "        l += (err**2) #of ook wel error * error (error in het kwadraat)\n",
    "    \n",
    "        return math.sqrt(l/len(prices))   "
   ]
  },
  {
   "cell_type": "code",
   "execution_count": null,
   "id": "e7f3c443-70cb-422c-98bf-d25de4f048f5",
   "metadata": {},
   "outputs": [],
   "source": [
    "# TODO: implement\n",
    "\n",
    "#---------------------------\n",
    "\n",
    "# Int"
   ]
  },
  {
   "cell_type": "markdown",
   "id": "3774bb48-10bb-41b5-a312-3c370eb6c9fe",
   "metadata": {
    "tags": []
   },
   "source": [
    "### Automatiseren (machine learning)"
   ]
  },
  {
   "cell_type": "code",
   "execution_count": null,
   "id": "1a4b8b32-0998-4ba8-bde9-2d92b6677b4d",
   "metadata": {},
   "outputs": [],
   "source": [
    "# TODO: implement"
   ]
  },
  {
   "cell_type": "markdown",
   "id": "d2eebb08-e24b-4f99-a22b-2ae89d0ce43f",
   "metadata": {
    "tags": []
   },
   "source": [
    "# Deep Learning"
   ]
  },
  {
   "cell_type": "markdown",
   "id": "7336d81e-3fbe-405b-8924-5fb9d995dbc1",
   "metadata": {
    "jp-MarkdownHeadingCollapsed": true,
    "tags": []
   },
   "source": [
    "### Preparation"
   ]
  },
  {
   "cell_type": "code",
   "execution_count": null,
   "id": "276b49e5-4e09-47c1-bc79-5819674625ab",
   "metadata": {},
   "outputs": [],
   "source": [
    "def preparePlot(t):\n",
    "    \n",
    "    fig, ax = plt.subplots()\n",
    "    ax.set(xlim=[-10, 10], ylim=[-50, 400], xlabel='x', ylabel='y', title=t)\n",
    "\n",
    "def plotCurve(x, y, scatter):\n",
    "\n",
    "    if scatter:\n",
    "        plt.scatter(x, y)\n",
    "    else:\n",
    "        plt.plot(x, y, 'red')\n",
    "\n",
    "def showPlot():\n",
    "    \n",
    "    plt.show()"
   ]
  },
  {
   "cell_type": "code",
   "execution_count": null,
   "id": "5aa5ca0e-99ce-4a7a-a222-6e2277b280af",
   "metadata": {},
   "outputs": [
    {
     "name": "stdout",
     "output_type": "stream",
     "text": [
      "[-10, -9, -8, -7, -6, -5, -4, -3, -2, -1, 0, 1, 2, 3, 4, 5, 6, 7, 8, 9, 10]\n"
     ]
    }
   ],
   "source": [
    "x = [x for x in range(-10, 11, 1)]\n",
    "\n",
    "print(x)"
   ]
  },
  {
   "cell_type": "code",
   "execution_count": null,
   "id": "2f91d22a-57cf-463f-b6e6-9a35e655f0d2",
   "metadata": {},
   "outputs": [
    {
     "name": "stdout",
     "output_type": "stream",
     "text": [
      "[160, 125, 94, 67, 44, 25, 10, -1, -8, -11, -10, -5, 4, 17, 34, 55, 80, 109, 142, 179, 220]\n"
     ]
    }
   ],
   "source": [
    "a = 2\n",
    "b = 3\n",
    "c = -10\n",
    "\n",
    "# Prepare random data\n",
    "y = [a * x**2 + b * x + c for x in x]\n",
    "\n",
    "# Mean\n",
    "mu = 5\n",
    "\n",
    "# Define standard deviation (spread)\n",
    "sigma = 20\n",
    "\n",
    "# Prepare random data\n",
    "yNoise = [a * x**2 + b * x + c + rnd.gauss(mu, sigma) for x in x]\n",
    "\n",
    "print(y)"
   ]
  },
  {
   "cell_type": "code",
   "execution_count": null,
   "id": "4647d61c-33c8-4edc-b356-f57dc689aa76",
   "metadata": {},
   "outputs": [
    {
     "data": {
      "image/png": "[encoded data removed]",
      "text/plain": [
       "<Figure size 640x480 with 1 Axes>"
      ]
     },
     "metadata": {},
     "output_type": "display_data"
    }
   ],
   "source": [
    "preparePlot(\"Parabool\")\n",
    "plotCurve(x,y, False)\n",
    "plotCurve(x,yNoise, True)\n",
    "showPlot()"
   ]
  },
  {
   "cell_type": "markdown",
   "id": "1421b00c-3903-426c-803e-e8c4e34b48d3",
   "metadata": {
    "tags": []
   },
   "source": [
    "## Doel: best fit maken"
   ]
  },
  {
   "cell_type": "markdown",
   "id": "4100e5ee-acbe-4f07-9ba1-307a8d64f379",
   "metadata": {
    "jp-MarkdownHeadingCollapsed": true,
    "tags": []
   },
   "source": [
    "### ReLU: Rectified Linear Unit"
   ]
  },
  {
   "cell_type": "code",
   "execution_count": null,
   "id": "1dcf2502-27de-4664-866c-42ac0b2e4344",
   "metadata": {},
   "outputs": [],
   "source": [
    "def relu(m, b, x):\n",
    "    \n",
    "    y = m * x + b\n",
    "    \n",
    "    if y < 0:\n",
    "        return 0\n",
    "    else:\n",
    "        return y"
   ]
  },
  {
   "cell_type": "code",
   "execution_count": null,
   "id": "93dbeb1e-71f8-405a-8d80-6c3b65abee19",
   "metadata": {},
   "outputs": [
    {
     "data": {
      "application/vnd.jupyter.widget-view+json": {
       "model_id": "80c28b5c308a4a778d0ba6f24cf0d41f",
       "version_major": 2,
       "version_minor": 0
      },
      "text/plain": [
       "interactive(children=(FloatSlider(value=0.0, description='m', max=10.0, min=-10.0), FloatSlider(value=0.0, des…"
      ]
     },
     "metadata": {},
     "output_type": "display_data"
    },
    {
     "data": {
      "text/plain": [
       "<function __main__.manualRelu(m, b)>"
      ]
     },
     "execution_count": 14,
     "metadata": {},
     "output_type": "execute_result"
    }
   ],
   "source": [
    "def manualRelu(m, b):\n",
    "    \n",
    "    rlu = [relu(m, b, x) for x in x]\n",
    "    \n",
    "    preparePlot(\"Relu\")\n",
    "    plotCurve(x, rlu, False)\n",
    "    \n",
    "interact(manualRelu, m=(-10,10,0.1), b=(-10,10,0.1))"
   ]
  },
  {
   "cell_type": "markdown",
   "id": "e875413a-ee27-4ef3-b317-f3bf1df27441",
   "metadata": {
    "jp-MarkdownHeadingCollapsed": true,
    "tags": []
   },
   "source": [
    "### Handmatige parabool fit met ReLU"
   ]
  },
  {
   "cell_type": "code",
   "execution_count": null,
   "id": "e42ed231-5941-48ad-8e64-67a9a22ab1f7",
   "metadata": {},
   "outputs": [
    {
     "data": {
      "application/vnd.jupyter.widget-view+json": {
       "model_id": "2d843a5cd9af46939d861ff7d61860de",
       "version_major": 2,
       "version_minor": 0
      },
      "text/plain": [
       "interactive(children=(FloatSlider(value=0.0, description='m1', max=50.0, min=-50.0, step=0.01), FloatSlider(va…"
      ]
     },
     "metadata": {},
     "output_type": "display_data"
    },
    {
     "data": {
      "text/plain": [
       "<function __main__.parabolaFit(m1, b1, m2, b2)>"
      ]
     },
     "execution_count": 15,
     "metadata": {},
     "output_type": "execute_result"
    }
   ],
   "source": [
    "def parabolaFit(m1, b1, m2, b2):\n",
    "    \n",
    "    fit = [relu(m1, b1, x) + relu(m2, b2, x) for x in x]\n",
    "    \n",
    "    preparePlot(\"Twee relu's\")\n",
    "    \n",
    "    plotCurve(x, fit, False)\n",
    "    plotCurve(x, yNoise, True)\n",
    "    \n",
    "    showPlot()\n",
    "\n",
    "interact(parabolaFit, m1=(-50,50,0.01), b1=(-50,50,0.01), m2=(-50,50,0.01), b2=(-50,50,0.01))"
   ]
  },
  {
   "cell_type": "markdown",
   "id": "1e292586-9762-4918-a02a-2c8bf1112451",
   "metadata": {
    "tags": []
   },
   "source": [
    "### Automatische parabool fit"
   ]
  },
  {
   "cell_type": "code",
   "execution_count": 42,
   "id": "aaf91953-511e-43a6-b997-7a3a6464d4bc",
   "metadata": {},
   "outputs": [
    {
     "name": "stdout",
     "output_type": "stream",
     "text": [
      "initial loss:  92.81163720137685\n",
      "epoch:  0\n",
      "loss:  59.73026134865199\n",
      "epoch:  1\n",
      "loss:  60.02707326564291\n",
      "epoch:  2\n",
      "loss:  59.971435407624455\n",
      "epoch:  3\n",
      "loss:  40.607842763577224\n",
      "epoch:  4\n",
      "loss:  32.69948685894017\n",
      "epoch:  5\n",
      "loss:  31.252879374864047\n",
      "epoch:  6\n",
      "loss:  29.90926646960815\n",
      "epoch:  7\n",
      "loss:  28.666939702723802\n",
      "epoch:  8\n",
      "loss:  27.54960463571537\n",
      "epoch:  9\n",
      "loss:  26.52289393562102\n",
      "epoch:  10\n",
      "loss:  25.57748633181822\n",
      "epoch:  11\n",
      "loss:  24.705322750968058\n",
      "epoch:  12\n",
      "loss:  23.88337650188926\n",
      "epoch:  13\n",
      "loss:  23.106080037379947\n",
      "epoch:  14\n",
      "loss:  22.369612029318862\n",
      "epoch:  15\n",
      "loss:  21.694530564991734\n",
      "epoch:  16\n",
      "loss:  21.057264518030728\n",
      "epoch:  17\n",
      "loss:  20.45258873804572\n",
      "epoch:  18\n",
      "loss:  19.87943464080298\n",
      "epoch:  19\n",
      "loss:  19.33675376407861\n",
      "epoch:  20\n",
      "loss:  18.823515434577697\n",
      "epoch:  21\n",
      "loss:  18.33870465180517\n",
      "epoch:  22\n",
      "loss:  17.881320219773883\n",
      "epoch:  23\n",
      "loss:  17.450373155352292\n",
      "epoch:  24\n",
      "loss:  17.04301351912524\n",
      "epoch:  25\n",
      "loss:  16.659409625382285\n",
      "epoch:  26\n",
      "loss:  16.285819414129683\n",
      "epoch:  27\n",
      "loss:  15.925861087303776\n",
      "epoch:  28\n",
      "loss:  15.58221220592235\n",
      "epoch:  29\n",
      "loss:  15.254418318627886\n",
      "epoch:  30\n",
      "loss:  14.942677203199507\n",
      "epoch:  31\n",
      "loss:  14.6438762847341\n",
      "epoch:  32\n",
      "loss:  14.356360197985019\n",
      "epoch:  33\n",
      "loss:  14.079896454586583\n",
      "epoch:  34\n",
      "loss:  13.814249842735126\n",
      "epoch:  35\n",
      "loss:  13.559186427418785\n",
      "epoch:  36\n",
      "loss:  13.314473197772829\n",
      "epoch:  37\n",
      "loss:  13.079877791457184\n",
      "epoch:  38\n",
      "loss:  12.855168247141371\n",
      "epoch:  39\n",
      "loss:  12.640112788665947\n",
      "m1Fit:  -20.505562588014705 b1Fit:  -68.27301849832118 m2Fit:  29.193480694851427 b2Fit:  -71.78285582707517\n",
      "final loss:  12.640112788665947\n"
     ]
    },
    {
     "data": {
      "image/png": "[encoded data removed]",
      "text/plain": [
       "<Figure size 640x480 with 1 Axes>"
      ]
     },
     "metadata": {},
     "output_type": "display_data"
    }
   ],
   "source": [
    "# Learning iterations\n",
    "epochs = 40\n",
    "\n",
    "# Learning rate\n",
    "learningRate = 0.01\n",
    "\n",
    "#------------------------------------------\n",
    "\n",
    "# Initial values (\"guess\")\n",
    "m1Fit = 0.0\n",
    "b1Fit = 0.0\n",
    "m2Fit = 0.0\n",
    "b2Fit = 0.0\n",
    "\n",
    "#------------------------------------------\n",
    "\n",
    "def loss(m1, b1, m2, b2):\n",
    "    \n",
    "    l = 0\n",
    "    \n",
    "    # Sum of squared errors\n",
    "    for i in range(0, len(x)):\n",
    "        \n",
    "        guess = relu(m1, b1, x[i]) + relu(m2, b2, x[i])\n",
    "        err = y[i] - guess\n",
    "        \n",
    "        l += (err**2)\n",
    "    \n",
    "    return math.sqrt(l / len(x))\n",
    "\n",
    "#------------------------------------------\n",
    "\n",
    "def gradientDescent(m1, b1, m2, b2, i):\n",
    "    \n",
    "    # First guess\n",
    "    guess1 = relu(m1, b1, x[i]) + relu(m2, b2, x[i])\n",
    "    err1 = y[i] - guess1\n",
    "\n",
    "    # print(\"error: \", err)\n",
    "\n",
    "    # Stochastic gradient descent\n",
    "    m1 += err1 * learningRate * x[i]\n",
    "    b1 += err1 * learningRate\n",
    "    \n",
    "    # Second guess\n",
    "    guess2 = relu(m1, b1, x[i]) + relu(m2, b2, x[i])\n",
    "    err2 = y[i] - guess2\n",
    "\n",
    "    # print(\"error: \", err)\n",
    "\n",
    "    # Stochastic gradient descent\n",
    "    m2 += err2 * learningRate * x[i]\n",
    "    b2 += err2 * learningRate\n",
    "\n",
    "    # print(\"m: \", m, \"b: \", b)\n",
    "        \n",
    "    return m1, b1, m2, b2\n",
    "    \n",
    "#------------------------------------------\n",
    "\n",
    "def train(m1, b1, m2, b2):\n",
    "    \n",
    "    for i in range(0, len(x)):\n",
    "\n",
    "        # Adjust m and b, given input\n",
    "        m1, b1, m2, b2 = gradientDescent(m1, b1, m2, b2, i)\n",
    "        \n",
    "    return m1, b1, m2, b2\n",
    "\n",
    "#------------------------------------------\n",
    "\n",
    "epoch = 0\n",
    "\n",
    "# Inital loss\n",
    "l = loss(m1Fit, b1Fit, m2Fit, b2Fit)\n",
    "\n",
    "print(\"initial loss: \", loss(m1Fit, b1Fit, m2Fit, b2Fit))\n",
    "\n",
    "#------------------------------------------\n",
    "\n",
    "while epoch < epochs:\n",
    "    \n",
    "    print(\"epoch: \", epoch)\n",
    "    \n",
    "    m1Fit, b1Fit, m2Fit, b2Fit = train(m1Fit, b1Fit, m2Fit, b2Fit)\n",
    "    \n",
    "    print(\"loss: \", loss(m1Fit, b1Fit, m2Fit, b2Fit))\n",
    "    \n",
    "    epoch += 1\n",
    "    \n",
    "    time.sleep(0.1)\n",
    "    \n",
    "    # plotFit()\n",
    "    \n",
    "#------------------------------------------\n",
    "\n",
    "print(\"m1Fit: \", m1Fit, \"b1Fit: \", b1Fit, \"m2Fit: \", m2Fit, \"b2Fit: \", b2Fit)\n",
    "print(\"final loss: \", loss(m1Fit, b1Fit, m2Fit, b2Fit))\n",
    "\n",
    "parabolaFit(m1Fit, b1Fit, m2Fit, b2Fit)\n"
   ]
  },
  {
   "cell_type": "code",
   "execution_count": null,
   "id": "79837018",
   "metadata": {},
   "outputs": [],
   "source": []
  }
 ],
 "metadata": {
  "kernelspec": {
   "display_name": "Python 3.8.9 ('env': venv)",
   "language": "python",
   "name": "python3"
  },
  "language_info": {
   "codemirror_mode": {
    "name": "ipython",
    "version": 3
   },
   "file_extension": ".py",
   "mimetype": "text/x-python",
   "name": "python",
   "nbconvert_exporter": "python",
   "pygments_lexer": "ipython3",
   "version": "3.8.9"
  },
  "vscode": {
   "interpreter": {
    "hash": "db3e042390c8d3382d7733689e2ca9d3b131f9b76efb1c210d3bc94e385be943"
   }
  }
 },
 "nbformat": 4,
 "nbformat_minor": 5
}
