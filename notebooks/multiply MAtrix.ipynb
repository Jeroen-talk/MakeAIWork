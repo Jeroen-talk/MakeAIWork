{
 "cells": [
  {
   "cell_type": "code",
   "execution_count": null,
   "id": "4987a980-5e22-418c-a612-be1037aa1d7b",
   "metadata": {},
   "outputs": [],
   "source": []
  },
  {
   "cell_type": "code",
   "execution_count": null,
   "id": "a45ce40c-f65b-4200-88e4-0acfd350fe29",
   "metadata": {},
   "outputs": [],
   "source": [
    "# aanmaak eerst opzet\n",
    "\n",
    "list_a = [0,1,2,3,4,5]\n",
    "    for list_a in item:\n",
    "        item.append(list_a)\n",
    "    \n",
    "print (list_a)\n",
    "print (item)"
   ]
  },
  {
   "cell_type": "code",
   "execution_count": null,
   "id": "8cf425ce-1edb-43f3-a554-ca06142da95a",
   "metadata": {},
   "outputs": [],
   "source": [
    "# aanmaak tweede opzet\n",
    "\n",
    "aLabel = [0, 3, 1]\n",
    "\n",
    "bLabel = [1, 4, 7]\n",
    "\n",
    "# funtie\n",
    "def addVectors(aLabel, bLabel)\n",
    "# voor elke rij\n",
    " for:aLabel in bLabel:\n",
    "     aLabel.append(bLabel)\n",
    "         \n",
    "    #return resultaat\n",
    "\n",
    "aLabal = list [1, 2]\n",
    "bLabel = list [2, 1]\n",
    "\n",
    "w = addVectors(aLabel, bLabel)"
   ]
  },
  {
   "cell_type": "code",
   "execution_count": 1,
   "id": "b9ccfd9c-29de-44f1-b02a-f125bb974867",
   "metadata": {},
   "outputs": [
    {
     "name": "stdout",
     "output_type": "stream",
     "text": [
      "[30, 24, 18]\n",
      "[84, 69, 54]\n",
      "[138, 114, 90]\n"
     ]
    }
   ],
   "source": [
    "# Matrix multiply\n",
    "\n",
    "a_Matrix = [[1, 2, 3],\n",
    "            [4, 5, 6], \n",
    "            [7, 8, 9]]\n",
    "\n",
    "b_Matrix = [[9, 8, 7], \n",
    "            [6, 5, 4], \n",
    "            [3, 2, 1]]\n",
    "\n",
    "c_Result = [[0, 0, 0],\n",
    "            [0, 0, 0],\n",
    "            [0, 0, 0]] # result matrix \n",
    "\n",
    "for rowIndex in range(len(a_Matrix)):\n",
    "    for columnIndex in range(len(b_Matrix[0])):\n",
    "        for termIndex in range(len(a_Matrix[0])): \n",
    "            c_Result[rowIndex][columnIndex] += a_Matrix[rowIndex][termIndex] * b_Matrix[termIndex][columnIndex]\n",
    "\n",
    "for row in c_Result:\n",
    "    print(row)\n"
   ]
  },
  {
   "cell_type": "code",
   "execution_count": 17,
   "id": "ce9111ba-d18c-4587-992c-6b5afb3d8560",
   "metadata": {},
   "outputs": [
    {
     "name": "stdout",
     "output_type": "stream",
     "text": [
      "[[30, 24, 18], [84, 69, 54], [138, 114, 90]]\n"
     ]
    }
   ],
   "source": [
    "#class matrix\n",
    "class Matrix:\n",
    "    def __init__(self,lst):\n",
    "        self.mat = lst\n",
    "        self.dim = (len(lst), len(lst[0]))\n",
    "        self.rows=[lst[i][:] for i in range(self.dim[0])]\n",
    "        self.columns=[[lst[i][j] for i in range(self.dim[0])] for j in range(self.dim[1])]\n",
    "\n",
    "    def get(self,i,j):\n",
    "        if (i) <= self.dim[0] and (j) <= self.dim[1]:\n",
    "            return self.mat[i-1][j-1]\n",
    "        else:\n",
    "            return None\n",
    "\n",
    "    def __multList(self,list1,list2):\n",
    "        if len(list1)==len(list2):\n",
    "            return sum([list1[i]*list2[i] for i in range(len(list1))])\n",
    "\n",
    "    def mult(self,other):\n",
    "        matrix=[]\n",
    "        for i in range(len(self.rows)):\n",
    "            rows=[]\n",
    "            for j in range(len(other.columns)):\n",
    "                rows.append(self.__multList(other.columns[j],self.rows[i]))\n",
    "            matrix.append(rows)\n",
    "        return Matrix(matrix)\n",
    "\n",
    "A = Matrix([[1, 2, 3],\n",
    "            [4, 5, 6], \n",
    "            [7, 8, 9]]) \n",
    "B = Matrix([[9, 8, 7], \n",
    "            [6, 5, 4], \n",
    "            [3, 2, 1]])\n",
    "C=A.mult(B)\n",
    "print (C.mat)"
   ]
  },
  {
   "cell_type": "code",
   "execution_count": null,
   "id": "d64a11bb-1b3a-4847-bf17-f4def20f48f7",
   "metadata": {},
   "outputs": [],
   "source": []
  },
  {
   "cell_type": "code",
   "execution_count": null,
   "id": "97aca917-18e4-4faa-813c-8b2deecdcb42",
   "metadata": {},
   "outputs": [],
   "source": []
  }
 ],
 "metadata": {
  "kernelspec": {
   "display_name": "Python 3 (ipykernel)",
   "language": "python",
   "name": "python3"
  },
  "language_info": {
   "codemirror_mode": {
    "name": "ipython",
    "version": 3
   },
   "file_extension": ".py",
   "mimetype": "text/x-python",
   "name": "python",
   "nbconvert_exporter": "python",
   "pygments_lexer": "ipython3",
   "version": "3.8.9"
  }
 },
 "nbformat": 4,
 "nbformat_minor": 5
}
