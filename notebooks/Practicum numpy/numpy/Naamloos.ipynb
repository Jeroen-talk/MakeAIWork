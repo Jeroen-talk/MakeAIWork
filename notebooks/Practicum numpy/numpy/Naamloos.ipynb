{
 "cells": [
  {
   "cell_type": "code",
   "execution_count": 3,
   "id": "0ef8c94f-bb18-42b3-adf4-9eee7b322db7",
   "metadata": {},
   "outputs": [
    {
     "ename": "NameError",
     "evalue": "name 'img' is not defined",
     "output_type": "error",
     "traceback": [
      "\u001b[0;31m---------------------------------------------------------------------------\u001b[0m",
      "\u001b[0;31mNameError\u001b[0m                                 Traceback (most recent call last)",
      "Input \u001b[0;32mIn [3]\u001b[0m, in \u001b[0;36m<cell line: 13>\u001b[0;34m()\u001b[0m\n\u001b[1;32m     11\u001b[0m dataPlanet \u001b[38;5;241m=\u001b[39m pd\u001b[38;5;241m.\u001b[39mDataFrame(planetDataFrames, columns \u001b[38;5;241m=\u001b[39m [\u001b[38;5;124m'\u001b[39m\u001b[38;5;124mPlanets\u001b[39m\u001b[38;5;124m'\u001b[39m, \u001b[38;5;124m'\u001b[39m\u001b[38;5;124mPercentage\u001b[39m\u001b[38;5;124m'\u001b[39m, \u001b[38;5;124m'\u001b[39m\u001b[38;5;124mScale Fector\u001b[39m\u001b[38;5;124m'\u001b[39m, \u001b[38;5;124m'\u001b[39m\u001b[38;5;124mImage Path\u001b[39m\u001b[38;5;124m'\u001b[39m])\n\u001b[1;32m     12\u001b[0m \u001b[38;5;66;03m# img = Image.open(planetDataFrames.get('Image Path'))\u001b[39;00m\n\u001b[0;32m---> 13\u001b[0m \u001b[43mimg\u001b[49m\u001b[38;5;241m.\u001b[39mshow()\n",
      "\u001b[0;31mNameError\u001b[0m: name 'img' is not defined"
     ]
    }
   ],
   "source": [
    "from PIL import Image\n",
    "import pandas as pd\n",
    "\n",
    "planetDataFrames = {\n",
    "    'Planets': ['Jupiter', 'Saturnus', 'Uranus', 'Neptunus', 'Aarde', 'Venus', 'Mars'], \n",
    "    'Percentage': ['1120%', '945%', '400%', '388%', '100%', '95%', '53%'], \n",
    "    'Scale Fector': ['11.2', '9.45', '40', '3.88', '1', '95', '0.53' ],\n",
    "    'Image Path': ['pics/Jupiter.jpg', 'pics/saturnus.png', 'pics/uranus.jpg', 'pics/neptunus.jpg', 'pics/aarde.jpg', 'pics/venus.jpg', 'pics/mars.jpg']\n",
    "                     } \n",
    "\n",
    "dataPlanet = pd.DataFrame(planetDataFrames, columns = ['Planets', 'Percentage', 'Scale Fector', 'Image Path'])\n",
    "# img = Image.open(planetDataFrames.get('Image Path'))\n",
    "img.show()\n",
    "# print(dataPlanet)    \n"
   ]
  },
  {
   "cell_type": "code",
   "execution_count": null,
   "id": "2936b1f4-2b64-4310-b9f0-4889993efcf8",
   "metadata": {},
   "outputs": [],
   "source": []
  }
 ],
 "metadata": {
  "kernelspec": {
   "display_name": "Python 3 (ipykernel)",
   "language": "python",
   "name": "python3"
  },
  "language_info": {
   "codemirror_mode": {
    "name": "ipython",
    "version": 3
   },
   "file_extension": ".py",
   "mimetype": "text/x-python",
   "name": "python",
   "nbconvert_exporter": "python",
   "pygments_lexer": "ipython3",
   "version": "3.8.9"
  }
 },
 "nbformat": 4,
 "nbformat_minor": 5
}
