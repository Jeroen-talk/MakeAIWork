{
 "cells": [
  {
   "cell_type": "markdown",
   "id": "b45dd50e-d75c-41d2-a549-110cc111e32b",
   "metadata": {},
   "source": [
    "<a href=\"https://it-omscholing.nl/locaties/hogeschool-rotterdam/\">\n",
    "<div>\n",
    "<a><img src='../../pics/banner.PNG'/></a>\n",
    "</div>\n",
    "<div>\n",
    "<a href=''><img src='../../pics/miw.PNG'/></a>\n",
    "<em>Author: Jeroen Boogaard</em>\n",
    "</div>\n",
    "</a>"
   ]
  },
  {
   "cell_type": "markdown",
   "id": "63f0720b-4a62-479d-873b-c5f6cad9a89d",
   "metadata": {},
   "source": [
    "<h1>Numpy</h1>"
   ]
  },
  {
   "cell_type": "markdown",
   "id": "3619d610-30b3-41a2-b5f0-ae37b9d5b105",
   "metadata": {},
   "source": [
    "**Imports**"
   ]
  },
  {
   "cell_type": "code",
   "execution_count": 3,
   "id": "42257a05-c794-4121-a9cf-fe53fa3a1dc1",
   "metadata": {},
   "outputs": [],
   "source": [
    "import numpy as np\n",
    "import pandas as pd\n",
    "from PIL import Image\n",
    "from scipy import ndimage"
   ]
  },
  {
   "cell_type": "markdown",
   "id": "8e48110a-ff83-4fba-aab9-7cb3678fe668",
   "metadata": {},
   "source": [
    "<h2>Opdracht 1</h2>"
   ]
  },
  {
   "cell_type": "markdown",
   "id": "47ac5b87-14b1-437e-91cb-93dadadef8f9",
   "metadata": {},
   "source": [
    "<h3>Gegeven</h3>"
   ]
  },
  {
   "cell_type": "markdown",
   "id": "8605ba6e-3f4e-4fe1-b76f-c784f2f44735",
   "metadata": {},
   "source": [
    "Planeet | Grootte to.v. de omvang van de Aarde\n",
    "---|---\n",
    "Jupiter | 1120%\n",
    "Saturnus | 945%\n",
    "Uranus | 400%\n",
    "Neptunus | 388%\n",
    "Aarde| 100%\n",
    "Venus | 95%\n",
    "Mars | 53%"
   ]
  },
  {
   "cell_type": "code",
   "execution_count": 5,
   "id": "2b471d98-c5b0-4db0-a1c6-155094548c23",
   "metadata": {},
   "outputs": [],
   "source": [
    "filename = \"csv/planets.csv\""
   ]
  },
  {
   "cell_type": "code",
   "execution_count": 6,
   "id": "e5fa129a-d9a8-4899-ba69-87537e1819f5",
   "metadata": {},
   "outputs": [
    {
     "name": "stdout",
     "output_type": "stream",
     "text": [
      "earth.jpg         mars.jpg          neptune.jpg       venus.png\n",
      "earth_scaled.jpg  mars.nasa.jpg     saturn.jpg\n",
      "jupiter.jpg       mercury.jpg       uranus.jpg\n"
     ]
    }
   ],
   "source": [
    "ls pics"
   ]
  },
  {
   "cell_type": "markdown",
   "id": "ad98fa30-0e0a-4ec4-9930-b63db74c11f2",
   "metadata": {},
   "source": [
    "<h3>Gevraagd</h3>\n",
    "<p>\n",
    "Schaal voor elke (erkende) planeet uit ons zonnestelsel de bijbehorende image t.o.v. van de aarde. Het geschaalde plaatje moet groter zijn dan het plaatje van de aarde als de bijbehorende planeet groter is dan de aarde. Is de planeet kleiner dan de aarde dan moet het nieuwe plaatje kleiner zijn. Gebruik voor de schaalfactor het percentage. \n",
    "Tip: Indien nodig kun je de images normaliseren door eerst het plaatje van de aarde te schalen\n",
    "</p>"
   ]
  },
  {
   "cell_type": "markdown",
   "id": "c0c854fb-54db-4baa-b149-2e7d0c1b6391",
   "metadata": {},
   "source": [
    "<h3>Oplossing</h3>\n",
    "<ol>\n",
    "    <li>\n",
    "        <strong>Open het bestand csv/planets.csv en voeg daar de kolom <i>image</i></strong>\n",
    "    </li>\n",
    "    <li>\n",
    "        <strong>Importeer het csv-bestand en sla de data op in een dictionary</strong>\n",
    "    </li>\n",
    "    <li>\n",
    "        <strong>Open een image uit van een item uit de dictionary</strong>\n",
    "    </li>\n",
    "    <li>\n",
    "        <strong>Schaal de image m.b.v. een <i>numpy array</i></strong>\n",
    "    </li>\n",
    "    <li>\n",
    "        <strong>Sla de geschaalde image op</strong>\n",
    "    </li>\n",
    "    <li>\n",
    "        <strong>Schrijf een functie voor het schalen van een image</strong>\n",
    "    </li>    \n",
    "    <li>\n",
    "        <strong>Maak een loop waarbij voor elke planeet een geschaalde image wordt gemaakt en opgelagen</strong>\n",
    "    </li>    \n",
    "</ol>    "
   ]
  },
  {
   "cell_type": "markdown",
   "id": "b2a7b7fb-56b3-43f7-a6b5-34adc057c3d1",
   "metadata": {},
   "source": [
    "**Stap 2: Importeer het csv-bestand en sla de data op in een dictionary**"
   ]
  },
  {
   "cell_type": "code",
   "execution_count": 26,
   "id": "cbcb0e9b-46f8-490d-9a85-eb29037a93cb",
   "metadata": {},
   "outputs": [
    {
     "name": "stdout",
     "output_type": "stream",
     "text": [
      "Index(['Name', ' Diameter', ' Mass', ' Inclination', ' Eccentricity',\n",
      "       ' Semi_majorAxis', ' SurfaceGravity', ' OrbitalPeriod',\n",
      "       ' SiderealRotation', ' Satellites'],\n",
      "      dtype='object')\n"
     ]
    }
   ],
   "source": [
    "planetDataFrame = pd.read_csv(filename, header = 0, sep = ',')\n",
    "# print(planetDataFrame)\n",
    "# type(planetDataFrame)\n",
    "print(planetDataFrame.columns)"
   ]
  },
  {
   "cell_type": "markdown",
   "id": "9d9d8c73-c8fa-41b0-848c-04741aa06bbf",
   "metadata": {},
   "source": [
    "**Stap 3: Open een image uit van een item uit de dictionary**"
   ]
  },
  {
   "cell_type": "code",
   "execution_count": 11,
   "id": "83d43bb9-694e-4390-a8a3-30f6535f6591",
   "metadata": {},
   "outputs": [],
   "source": [
    "img = Image.open('pics/earth.jpg')\n",
    "type(img)\n",
    "img.show()"
   ]
  },
  {
   "cell_type": "markdown",
   "id": "645b438b-324d-427c-9efd-d621e37445f7",
   "metadata": {
    "tags": []
   },
   "source": [
    "**Stap 4: Schaal de image m.b.v. een numpy array**"
   ]
  },
  {
   "cell_type": "code",
   "execution_count": 10,
   "id": "8894e6bd-6237-4cf6-8d95-222d6a3be56e",
   "metadata": {},
   "outputs": [],
   "source": [
    "array = np.array(img)\n",
    "type(array)\n",
    "scaleFactor = 2.5\n",
    "scaleArray = ndimage.zoom(array, (scaleFactor, scaleFactor, 1))\n",
    "imgScaled = Image.fromarray(scaleArray)\n",
    "imgScaled.show()"
   ]
  },
  {
   "cell_type": "markdown",
   "id": "8611929d-d109-4f62-881f-b8a64db1e648",
   "metadata": {},
   "source": [
    "**Stap 5: Sla de geschaalde image op**"
   ]
  },
  {
   "cell_type": "code",
   "execution_count": 9,
   "id": "2e34fa25-3cc3-4e5f-b29a-7793e505db61",
   "metadata": {},
   "outputs": [],
   "source": [
    "# imgScaled.save(img.filename.replace(\".jpg\",\"_scaled.jpg\"))"
   ]
  },
  {
   "cell_type": "markdown",
   "id": "f142ebe1-f561-447b-8e2e-e8855b20cd50",
   "metadata": {},
   "source": [
    "**Stap 6: Schrijf een functie voor het schalen van een image**"
   ]
  },
  {
   "cell_type": "code",
   "execution_count": 13,
   "id": "d72b54e1-68dd-4d82-9064-a941988b6f08",
   "metadata": {},
   "outputs": [],
   "source": [
    "# imgMars = Image.open('pics/mars.jpg')\n",
    "\n",
    "# resizedEarthImgage = img.resize((round(img.size[0]*2), round(img.size[1]*2)))\n",
    "\n",
    "# resizedEarthImgage.show()\n"
   ]
  },
  {
   "cell_type": "markdown",
   "id": "5a550077-c83c-4af2-96fa-7a32158d5198",
   "metadata": {},
   "source": [
    "**Stap 7: Maak een loop waarbij voor elke planeet een geschaalde image wordt gemaakt en opgelagen**"
   ]
  },
  {
   "cell_type": "code",
   "execution_count": null,
   "id": "9389471a-ff71-424e-8335-d1605988820d",
   "metadata": {},
   "outputs": [],
   "source": [
    "# stappenplan\n",
    "'''\n",
    "- een csv file maken van planeten\n",
    "- voeg hier aan de persentage van van de planeten hierin. \n",
    "- scale factor; Waarbij de Aarde waarde 1 heeft\n",
    "- voeg de paths naar de afbeeldingen toe\n",
    "- loop/methode maken van alle planeten in verhouding tot de aarde. \n",
    "'''"
   ]
  },
  {
   "cell_type": "code",
   "execution_count": null,
   "id": "9f4ca31f-d9d2-43c0-aa89-60ad6f8d4355",
   "metadata": {},
   "outputs": [],
   "source": [
    "# plantTable = { 'Jupiter': 1120, 'Saturnus': 945, 'Uranus': 400, 'Neptunus': 388, 'Aarde': 100, {'image':\"pics/earth.jpg\"}, 'Venus': 95, 'Mars': 53}\n",
    "# plantTable.items()\n"
   ]
  },
  {
   "cell_type": "code",
   "execution_count": null,
   "id": "1c8a80cf-a6c2-4b1d-ab5b-a56f8be0281b",
   "metadata": {},
   "outputs": [],
   "source": [
    "# import csv\n",
    "\n",
    "# planetFile = open('planetsInLoop.csv)\n",
    "# column {'planet':[], 'scale to Earth':[], 'image':[]}\n",
    "# column = {}\n",
    "# for h in headers:\n",
    "#     column[h] = []\n",
    "\n",
    "# column {'planet': ['Jupiter', 'Saturnus', 'Uranus', 'Neptunus', 'Aarde', 'Venus', 'Mars'], 'scale'; ['1120%', '945%', '400%', '388%', '100%', '95%', '53%'], 'image path'[]}\n"
   ]
  },
  {
   "cell_type": "code",
   "execution_count": null,
   "id": "b06b3674-572b-4e52-8af4-2b2189e72ecd",
   "metadata": {},
   "outputs": [],
   "source": [
    "\n",
    "# import csv\n",
    "  \n",
    "# headerList = ['planet', 'scale to Earth', 'scale factor', 'image path']\n",
    "# planetData = [[\"Jupiter\", \"1120%\", 112, 'pics/jupiter.jpg'][\"Saturnus\", \"945%\", 94.5, 'pics/saturn.jpg'][\"Neptunus\", \"400%\", 40, 'pics/neptune.jpg'][\"Aarde\", \"100%\", 1, 'pics/earth.jpg'][\"Venus\", \"95%\", 95, 'venus.png'][\"Mars\", \"53%\", 53, 'pics/mars.jpg']]\n",
    "\n",
    "\n",
    "# with open(\"planetsInLoop.csv\", 'w') as file:\n",
    "#     dw = csv.DictWriter(file, delimiter=',', fieldnames=headerList)\n",
    "#     dw.writeheader()\n",
    "\n",
    "# fileContent = pd.read_csv(\"planetsInLoop.csv\")\n",
    "\n",
    "\n"
   ]
  },
  {
   "cell_type": "code",
   "execution_count": 20,
   "id": "f3a31a77-afca-48e8-8d59-70ee9be92424",
   "metadata": {},
   "outputs": [],
   "source": [
    "filename = \"csv/planetsLoop.csv\"\n",
    "planeDataFrame = pd.read_csv(filename, header = 0, sep = ',')\n",
    "\n",
    "pathColumn = ['pics/mercury.jpg', 'pics/venus.png', 'pics/earth.jpg', 'pics/mars.jpg', 'pics/jupiter.jpg', 'pics/saturn.jpg', 'pics/uranus.jpg', \n",
    "'pics/neptune.jpg', 'pics/pluto.jpg']\n",
    "\n",
    "\n",
    "planeDataFrame[\"ImagePath\"] = pathColumn\n",
    "\n",
    "# print(planetDataFrame)\n",
    "# type(planetDataFrame)\n",
    "# print(planetDataFrame.columns)"
   ]
  },
  {
   "cell_type": "code",
   "execution_count": 21,
   "id": "30536a95-6ac8-468f-ad8f-61491d40c99e",
   "metadata": {},
   "outputs": [],
   "source": [
    "# import csv\n",
    "\n",
    "# planetHeader = ['Jupiter', 'Saturnus', 'Uranus', 'Neptunus', 'Aarde', 'Venus', 'Mars']\n",
    "# planetPercentage = [ '1120%', '945%', '400%', '388%', '100%', '95%', '53%']\n",
    "\n",
    "\n",
    "# pathPlanet = ['pics/mercury.jpg', 'pics/venus.png', 'pics/earth.jpg', 'pics/mars.jpg', 'pics/jupiter.jpg', 'pics/saturn.jpg', 'pics/uranus.jpg', \n",
    "# 'pics/neptune.jpg', 'pics/pluto.jpg']\n",
    "\n",
    "\n",
    "\n",
    "# with open('planetsLoop.csv', 'w') as file:\n",
    "\n",
    "#     writer = csv.writer(file)\n",
    " \n",
    "#     writer.writerow(planetHeader)\n",
    "#     writer.writerow(planetPercentage)\n",
    "    \n"
   ]
  },
  {
   "cell_type": "code",
   "execution_count": 25,
   "id": "fc005688-736c-4b80-9846-e11eb2ddaaf7",
   "metadata": {},
   "outputs": [
    {
     "ename": "AttributeError",
     "evalue": "'str' object has no attribute 'read'",
     "output_type": "error",
     "traceback": [
      "\u001b[0;31m---------------------------------------------------------------------------\u001b[0m",
      "\u001b[0;31mAttributeError\u001b[0m                            Traceback (most recent call last)",
      "File \u001b[0;32m~/opt/miniconda3/lib/python3.9/site-packages/PIL/Image.py:3096\u001b[0m, in \u001b[0;36mopen\u001b[0;34m(fp, mode, formats)\u001b[0m\n\u001b[1;32m   3095\u001b[0m \u001b[38;5;28;01mtry\u001b[39;00m:\n\u001b[0;32m-> 3096\u001b[0m     \u001b[43mfp\u001b[49m\u001b[38;5;241;43m.\u001b[39;49m\u001b[43mseek\u001b[49m(\u001b[38;5;241m0\u001b[39m)\n\u001b[1;32m   3097\u001b[0m \u001b[38;5;28;01mexcept\u001b[39;00m (\u001b[38;5;167;01mAttributeError\u001b[39;00m, io\u001b[38;5;241m.\u001b[39mUnsupportedOperation):\n",
      "\u001b[0;31mAttributeError\u001b[0m: 'str' object has no attribute 'seek'",
      "\nDuring handling of the above exception, another exception occurred:\n",
      "\u001b[0;31mAttributeError\u001b[0m                            Traceback (most recent call last)",
      "Cell \u001b[0;32mIn [25], line 13\u001b[0m\n\u001b[1;32m     11\u001b[0m dataPlanet \u001b[38;5;241m=\u001b[39m pd\u001b[38;5;241m.\u001b[39mDataFrame(planetDataFrames_1, columns \u001b[38;5;241m=\u001b[39m [\u001b[38;5;124m'\u001b[39m\u001b[38;5;124mPlanets\u001b[39m\u001b[38;5;124m'\u001b[39m, \u001b[38;5;124m'\u001b[39m\u001b[38;5;124mPercentage\u001b[39m\u001b[38;5;124m'\u001b[39m, \u001b[38;5;124m'\u001b[39m\u001b[38;5;124mScale Fector\u001b[39m\u001b[38;5;124m'\u001b[39m, \u001b[38;5;124m'\u001b[39m\u001b[38;5;124mImage Path\u001b[39m\u001b[38;5;124m'\u001b[39m])\n\u001b[1;32m     12\u001b[0m \u001b[38;5;28;01mfor\u001b[39;00m x \u001b[38;5;129;01min\u001b[39;00m planetDataFrames_1:\n\u001b[0;32m---> 13\u001b[0m     img \u001b[38;5;241m=\u001b[39m Image\u001b[38;5;241m.\u001b[39mopen(\u001b[38;5;124m'\u001b[39m\u001b[38;5;124m'\u001b[39m)\n\u001b[1;32m     14\u001b[0m     img\u001b[38;5;241m.\u001b[39mshow()\n\u001b[1;32m     15\u001b[0m \u001b[38;5;28mprint\u001b[39m(dataPlanet)\n",
      "File \u001b[0;32m~/opt/miniconda3/lib/python3.9/site-packages/PIL/Image.py:3098\u001b[0m, in \u001b[0;36mopen\u001b[0;34m(fp, mode, formats)\u001b[0m\n\u001b[1;32m   3096\u001b[0m     fp\u001b[38;5;241m.\u001b[39mseek(\u001b[38;5;241m0\u001b[39m)\n\u001b[1;32m   3097\u001b[0m \u001b[38;5;28;01mexcept\u001b[39;00m (\u001b[38;5;167;01mAttributeError\u001b[39;00m, io\u001b[38;5;241m.\u001b[39mUnsupportedOperation):\n\u001b[0;32m-> 3098\u001b[0m     fp \u001b[38;5;241m=\u001b[39m io\u001b[38;5;241m.\u001b[39mBytesIO(\u001b[43mfp\u001b[49m\u001b[38;5;241;43m.\u001b[39;49m\u001b[43mread\u001b[49m())\n\u001b[1;32m   3099\u001b[0m     exclusive_fp \u001b[38;5;241m=\u001b[39m \u001b[38;5;28;01mTrue\u001b[39;00m\n\u001b[1;32m   3101\u001b[0m prefix \u001b[38;5;241m=\u001b[39m fp\u001b[38;5;241m.\u001b[39mread(\u001b[38;5;241m16\u001b[39m)\n",
      "\u001b[0;31mAttributeError\u001b[0m: 'str' object has no attribute 'read'"
     ]
    }
   ],
   "source": [
    "from PIL import Image\n",
    "import pandas as pd\n",
    "\n",
    "planetDataFrames_1 = {\n",
    "    'Planets': ['Jupiter', 'Saturnus', 'Uranus', 'Neptunus', 'Aarde', 'Venus', 'Mars'], \n",
    "    'Percentage': ['1120%', '945%', '400%', '388%', '100%', '95%', '53%'], \n",
    "    'Scale Fector': ['1120', '945', '400', '388', '100', '95', '53' ],\n",
    "    'Image Path': ['pics/Jupiter.jpg', 'pics/saturnus.png', 'pics/uranus.jpg', 'pics/neptunus.jpg', 'pics/aarde.jpg', 'pics/venus.jpg', 'pics/mars.jpg']\n",
    "                     } \n",
    "\n",
    "dataPlanet = pd.DataFrame(planetDataFrames_1, columns = ['Planets', 'Percentage', 'Scale Fector', 'Image Path'])\n",
    "for x in planetDataFrames_1:\n",
    "    img = Image.open('')\n",
    "    img.show()\n",
    "print(dataPlanet)    \n"
   ]
  },
  {
   "cell_type": "markdown",
   "id": "a668a8e8-4d7e-4c6d-adbc-61935887fabe",
   "metadata": {},
   "source": [
    "<h4>Bonus: Voeg Mercurius aan de tabel toe en schaal ook daarvan het plaatje</h4>"
   ]
  },
  {
   "cell_type": "markdown",
   "id": "11d181d1-c906-4ad1-9d8f-69836a4e8cc7",
   "metadata": {},
   "source": []
  },
  {
   "cell_type": "markdown",
   "id": "03ac855f-3986-4b4a-823c-10c6d8b33024",
   "metadata": {},
   "source": [
    "</ol>"
   ]
  },
  {
   "cell_type": "markdown",
   "id": "0be19a7e-a00f-4773-a19a-50b07618f856",
   "metadata": {},
   "source": [
    "\n"
   ]
  }
 ],
 "metadata": {
  "kernelspec": {
   "display_name": "Python 3 (ipykernel)",
   "language": "python",
   "name": "python3"
  },
  "language_info": {
   "codemirror_mode": {
    "name": "ipython",
    "version": 3
   },
   "file_extension": ".py",
   "mimetype": "text/x-python",
   "name": "python",
   "nbconvert_exporter": "python",
   "pygments_lexer": "ipython3",
   "version": "3.9.13"
  }
 },
 "nbformat": 4,
 "nbformat_minor": 5
}
