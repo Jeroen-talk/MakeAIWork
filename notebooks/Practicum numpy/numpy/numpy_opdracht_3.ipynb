{
 "cells": [
  {
   "cell_type": "code",
   "execution_count": 3,
   "id": "178d3055-75d4-427a-bf6d-d114cfb86d9f",
   "metadata": {},
   "outputs": [],
   "source": [
    "import numpy as np\n",
    "import pandas as pd\n",
    "from PIL import Image\n",
    "from scipy import ndimage"
   ]
  },
  {
   "cell_type": "code",
   "execution_count": 4,
   "id": "8597841a-9cfa-4198-b830-82d8d5d64f2d",
   "metadata": {},
   "outputs": [],
   "source": [
    "# img = Image.open('pics/earth.jpg')\n",
    "# type(img)\n",
    "# img.show()"
   ]
  },
  {
   "cell_type": "code",
   "execution_count": 11,
   "id": "0ef8c94f-bb18-42b3-adf4-9eee7b322db7",
   "metadata": {},
   "outputs": [
    {
     "name": "stdout",
     "output_type": "stream",
     "text": [
      "Index(['Planets', 'Percentage', 'Scale Fector', 'Image Path'], dtype='object')\n"
     ]
    }
   ],
   "source": [
    "planetDataFrames = {\n",
    "    'Planets': ['Jupiter', 'Saturnus', 'Uranus', 'Neptunus', 'Aarde', 'Venus', 'Mars'], \n",
    "    'Percentage': ['1120%', '945%', '400%', '388%', '100%', '95%', '53%'], \n",
    "    'Scale Fector': ['11.2', '9.45', '40', '3.88', '1', '95', '0.53' ],\n",
    "    'Image Path': ['pics/Jupiter.jpg', 'pics/saturnus.png', 'pics/uranus.jpg', 'pics/neptunus.jpg', 'pics/aarde.jpg', 'pics/venus.jpg', 'pics/mars.jpg']\n",
    "                     } \n",
    "\n",
    "dataPlanet = pd.DataFrame(planetDataFrames, columns = ['Planets', 'Percentage', 'Scale Fector', 'Image Path'])\n",
    "# imgPlanet = Image.open(planetDataFrames.get('Image Path'))\n",
    "print(dataPlanet.columns)   \n"
   ]
  },
  {
   "cell_type": "code",
   "execution_count": null,
   "id": "367a6add-136b-4fe6-8187-fb3179ef415c",
   "metadata": {},
   "outputs": [],
   "source": [
    "array = np.array(img)\n",
    "type(array)\n",
    "scaleFactor = 2.5\n",
    "scaleArray = ndimage.zoom(array, (scaleFactor, scaleFactor, 1))\n",
    "imgScaled = Image.fromarray(scaleArray)\n",
    "imgScaled.show()"
   ]
  },
  {
   "cell_type": "code",
   "execution_count": null,
   "id": "0678f086-ca41-47d0-a525-b6f048094886",
   "metadata": {},
   "outputs": [],
   "source": []
  }
 ],
 "metadata": {
  "kernelspec": {
   "display_name": "Python 3 (ipykernel)",
   "language": "python",
   "name": "python3"
  },
  "language_info": {
   "codemirror_mode": {
    "name": "ipython",
    "version": 3
   },
   "file_extension": ".py",
   "mimetype": "text/x-python",
   "name": "python",
   "nbconvert_exporter": "python",
   "pygments_lexer": "ipython3",
   "version": "3.9.13"
  }
 },
 "nbformat": 4,
 "nbformat_minor": 5
}
