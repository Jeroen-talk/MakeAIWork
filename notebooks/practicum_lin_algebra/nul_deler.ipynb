{
 "cells": [
  {
   "cell_type": "code",
   "execution_count": 18,
   "id": "bd192f07-54d1-406a-822e-7249c63c1d31",
   "metadata": {},
   "outputs": [
    {
     "name": "stdin",
     "output_type": "stream",
     "text": [
      "Welke getal moet gedeeld worden?:  2\n",
      "Vul hier 0 in:  0\n"
     ]
    },
    {
     "name": "stdout",
     "output_type": "stream",
     "text": [
      "Het te delen getal=: 2.0\n",
      "Gedeeld door: 0\n",
      "Je kan niet door Nul delen\n"
     ]
    },
    {
     "ename": "ZeroDivisionError",
     "evalue": "float division by zero",
     "output_type": "error",
     "traceback": [
      "\u001b[0;31m---------------------------------------------------------------------------\u001b[0m",
      "\u001b[0;31mZeroDivisionError\u001b[0m                         Traceback (most recent call last)",
      "Input \u001b[0;32mIn [18]\u001b[0m, in \u001b[0;36m<cell line: 13>\u001b[0;34m()\u001b[0m\n\u001b[1;32m     10\u001b[0m \u001b[38;5;28;01melse\u001b[39;00m:\n\u001b[1;32m     11\u001b[0m     \u001b[38;5;28mprint\u001b[39m (\u001b[38;5;124m'\u001b[39m\u001b[38;5;124mHad ik niet gevraagd om Nul in te voeren\u001b[39m\u001b[38;5;124m'\u001b[39m)\n\u001b[0;32m---> 13\u001b[0m area \u001b[38;5;241m=\u001b[39m \u001b[43mfirstDividerInput\u001b[49m\u001b[43m \u001b[49m\u001b[38;5;241;43m/\u001b[39;49m\u001b[43m \u001b[49m\u001b[43msecondDividerInput\u001b[49m\n\u001b[1;32m     14\u001b[0m \u001b[38;5;28mprint\u001b[39m (\u001b[38;5;124m'\u001b[39m\u001b[38;5;124mde uitkomst is:\u001b[39m\u001b[38;5;124m'\u001b[39m, area)\n\u001b[1;32m     16\u001b[0m \u001b[38;5;28;01mtry\u001b[39;00m:\n",
      "\u001b[0;31mZeroDivisionError\u001b[0m: float division by zero"
     ]
    }
   ],
   "source": [
    "firstDividerInput = float  (input ('Welke getal moet gedeeld worden?: '))\n",
    "secondDividerInput = int (input ('Vul hier 0 in: '))\n",
    "\n",
    "\n",
    "print ('Het te delen getal=:', firstDividerInput)\n",
    "print ('Gedeeld door:', secondDividerInput)\n",
    "\n",
    "if secondDividerInput == 0:\n",
    "    print ('Je kan niet door Nul delen')\n",
    "else:\n",
    "    print ('Had ik niet gevraagd om Nul in te voeren')\n",
    "        \n",
    "area = firstDividerInput / secondDividerInput\n",
    "print ('de uitkomst is:', area)\n",
    "\n",
    "try:\n",
    "    x = int(input('Vul nog eens 0 in: '))\n",
    "    break\n",
    "except ZeroDivisionError:\n",
    "    print('Had ik niet gevraagd om Nul in te voeren')"
   ]
  },
  {
   "cell_type": "code",
   "execution_count": 31,
   "id": "48e72364-7a3a-454d-9d64-1de7d60e091d",
   "metadata": {},
   "outputs": [
    {
     "name": "stdin",
     "output_type": "stream",
     "text": [
      "Welke getal moet gedeeld worden?:  4.5\n",
      "Vul hier 0 in:  7.4\n"
     ]
    },
    {
     "name": "stdout",
     "output_type": "stream",
     "text": [
      "Het te delen getal=: 4.5\n",
      "Gedeeld door: 7.4\n",
      "de uitkomst is: 0.6081081081081081\n"
     ]
    }
   ],
   "source": [
    "firstDividerInput = float  (input ('Welke getal moet gedeeld worden?: '))\n",
    "secondDividerInput = float (input ('Vul hier 0 in: '))\n",
    "\n",
    "\n",
    "print ('Het te delen getal=:', firstDividerInput)\n",
    "print ('Gedeeld door:', secondDividerInput)\n",
    "\n",
    "if secondDividerInput == 0:\n",
    "    print ('Je kan niet door Nul delen')\n",
    "        \n",
    "try:\n",
    "    area = firstDividerInput / secondDividerInput\n",
    "    print ('de uitkomst is:', area)\n",
    "except ZeroDivisionError:\n",
    "    print('Had je niet door NUL moeten delen')"
   ]
  },
  {
   "cell_type": "code",
   "execution_count": null,
   "id": "8e839b65-8248-4027-aaa7-b6f2740d529f",
   "metadata": {},
   "outputs": [],
   "source": []
  }
 ],
 "metadata": {
  "kernelspec": {
   "display_name": "Python 3 (ipykernel)",
   "language": "python",
   "name": "python3"
  },
  "language_info": {
   "codemirror_mode": {
    "name": "ipython",
    "version": 3
   },
   "file_extension": ".py",
   "mimetype": "text/x-python",
   "name": "python",
   "nbconvert_exporter": "python",
   "pygments_lexer": "ipython3",
   "version": "3.10.6"
  }
 },
 "nbformat": 4,
 "nbformat_minor": 5
}
