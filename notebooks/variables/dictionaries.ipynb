{
 "cells": [
  {
   "cell_type": "markdown",
   "id": "5713f5a7-348e-4905-a2dc-b4b750d3eb7b",
   "metadata": {},
   "source": [
    "<a href='https://it-omscholing.nl/locaties/hogeschool-rotterdam/'>\n",
    "<div>\n",
    "<a><img src='../pics/banner.PNG'/></a>\n",
    "</div>\n",
    "<div>\n",
    "<a href=''><img src='../pics/miw.PNG'/></a>\n",
    "<em>Author: Jeroen Boogaard</em>\n",
    "</div>\n",
    "</a>"
   ]
  },
  {
   "cell_type": "markdown",
   "id": "8c60c67e-7b39-45ac-acd5-54e1013ec115",
   "metadata": {},
   "source": [
    "---"
   ]
  },
  {
   "cell_type": "markdown",
   "id": "d697ae0a-1505-43f5-817d-efeaed6009a4",
   "metadata": {},
   "source": [
    "<h1>Samengestelde variabelen - Dictionaries</h1>"
   ]
  },
  {
   "cell_type": "markdown",
   "id": "5968c213-ab8e-41d5-b245-a23956f3af6f",
   "metadata": {},
   "source": [
    "**Een dict is een <u>mutable</u> dataverzameling van <u>key-value pairs</u>.**"
   ]
  },
  {
   "cell_type": "markdown",
   "id": "5812a326-b1a7-409e-9b2d-7b2bb5102532",
   "metadata": {},
   "source": [
    "<h3>Dictionary variabelen aanmaken en afdrukken</h3>"
   ]
  },
  {
   "cell_type": "code",
   "execution_count": 2,
   "id": "0dabdb25-6ff5-4edc-96fd-7019734055e0",
   "metadata": {},
   "outputs": [
    {
     "data": {
      "text/plain": [
       "dict_items([('length', 6), ('width', 1.56), ('weight', 360), ('deckHeight', (83, 108)), ('robotArmLength', 1.8), ('numberOfSolarPanels', 2)])"
      ]
     },
     "execution_count": 2,
     "metadata": {},
     "output_type": "execute_result"
    }
   ],
   "source": [
    "marslanderSpecs = { 'length': 6, 'width': 1.56, 'weight': 360, 'deckHeight': (83, 108), 'robotArmLength': 1.8, 'numberOfSolarPanels': 2}\n",
    "marslanderSpecs.items()"
   ]
  },
  {
   "cell_type": "markdown",
   "id": "839821d9-8d2c-4c18-a55e-c7645cbb3160",
   "metadata": {},
   "source": [
    "De <i>String Formatting Operator</i> maakt gebruik van een <i>tuple</i>"
   ]
  },
  {
   "cell_type": "code",
   "execution_count": 3,
   "id": "9fc3a9ee-6b10-41e0-9d45-6d4b85940f7f",
   "metadata": {},
   "outputs": [
    {
     "name": "stdout",
     "output_type": "stream",
     "text": [
      "<class 'tuple'>\n",
      "The Deck Height of the Marslander has a range from 83 to 108\n"
     ]
    }
   ],
   "source": [
    "print(type(marslanderSpecs.get('deckHeight')))\n",
    "print( 'The Deck Height of the Marslander has a range from %s to %s' %marslanderSpecs.get('deckHeight'))"
   ]
  },
  {
   "cell_type": "markdown",
   "id": "db849391-b9b9-4900-95ba-24d21c65138f",
   "metadata": {},
   "source": [
    "<h3>Elementen toevoegen</h3>"
   ]
  },
  {
   "cell_type": "code",
   "execution_count": 4,
   "id": "321b9ef8-559f-4f09-8110-0d07f6091807",
   "metadata": {},
   "outputs": [
    {
     "name": "stdout",
     "output_type": "stream",
     "text": [
      "{'length': 6, 'width': 1.56, 'weight': 360, 'deckHeight': (83, 108), 'robotArmLength': 1.8, 'numberOfSolarPanels': 2, 'scienceInstruments': ('seismometer', 'heat probe', 'radio science experiment'), 'image': '../pics/mars.nasa.jpg'}\n"
     ]
    }
   ],
   "source": [
    "\n",
    "marslanderSpecs.update( {'scienceInstruments' : (\"seismometer\", \"heat probe\", \"radio science experiment\")} )\n",
    "marslanderSpecs.update( {'image': \"../pics/mars.nasa.jpg\"} )\n",
    "print(marslanderSpecs)\n"
   ]
  },
  {
   "cell_type": "code",
   "execution_count": 5,
   "id": "28d7ab99-2af2-4700-b659-4d198a897f04",
   "metadata": {},
   "outputs": [],
   "source": [
    "#Oplossing opzet 1\n",
    "\n",
    "import csv\n",
    "\n",
    "marslanderSpecs_header = ['length', 'width', 'weight', 'deckHeight', 'robotArmLength', 'numberOfSolarPanels' ]\n",
    "marslanderSpecs_data = [ 6, 1.56, 360, (83, 108), 1.8, 2, '../pics/mars.nasa.jpg' ]\n",
    "\n",
    "with open('marslanderSpecs.csv', 'w') as file:\n",
    "\n",
    "    writer = csv.writer(file)\n",
    " \n",
    "    writer.writerow(marslanderSpecs_header)\n",
    "    writer.writerow(marslanderSpecs_data)\n",
    "\n"
   ]
  },
  {
   "cell_type": "code",
   "execution_count": 6,
   "id": "d24b0856-abd1-4962-a8af-e9a68094f181",
   "metadata": {},
   "outputs": [
    {
     "ename": "NameError",
     "evalue": "name 'data' is not defined",
     "output_type": "error",
     "traceback": [
      "\u001b[0;31m---------------------------------------------------------------------------\u001b[0m",
      "\u001b[0;31mNameError\u001b[0m                                 Traceback (most recent call last)",
      "Input \u001b[0;32mIn [6]\u001b[0m, in \u001b[0;36m<cell line: 7>\u001b[0;34m()\u001b[0m\n\u001b[1;32m      3\u001b[0m \u001b[38;5;28;01mimport\u001b[39;00m \u001b[38;5;21;01mcsv\u001b[39;00m\n\u001b[1;32m      5\u001b[0m marslanderSpecs \u001b[38;5;241m=\u001b[39m { \u001b[38;5;124m'\u001b[39m\u001b[38;5;124mlength\u001b[39m\u001b[38;5;124m'\u001b[39m: \u001b[38;5;241m6\u001b[39m, \u001b[38;5;124m'\u001b[39m\u001b[38;5;124mwidth\u001b[39m\u001b[38;5;124m'\u001b[39m: \u001b[38;5;241m1.56\u001b[39m, \u001b[38;5;124m'\u001b[39m\u001b[38;5;124mweight\u001b[39m\u001b[38;5;124m'\u001b[39m: \u001b[38;5;241m360\u001b[39m, \u001b[38;5;124m'\u001b[39m\u001b[38;5;124mdeckHeight\u001b[39m\u001b[38;5;124m'\u001b[39m: (\u001b[38;5;241m83\u001b[39m, \u001b[38;5;241m108\u001b[39m), \u001b[38;5;124m'\u001b[39m\u001b[38;5;124mrobotArmLength\u001b[39m\u001b[38;5;124m'\u001b[39m: \u001b[38;5;241m1.8\u001b[39m, \u001b[38;5;124m'\u001b[39m\u001b[38;5;124mnumberOfSolarPanels\u001b[39m\u001b[38;5;124m'\u001b[39m: \u001b[38;5;241m2\u001b[39m}\n\u001b[0;32m----> 7\u001b[0m marslanderSpecs_header_1 \u001b[38;5;241m=\u001b[39m (\u001b[43mdata\u001b[49m[\u001b[38;5;124m'\u001b[39m\u001b[38;5;124mlength\u001b[39m\u001b[38;5;124m'\u001b[39m, \u001b[38;5;124m'\u001b[39m\u001b[38;5;124mwidth\u001b[39m\u001b[38;5;124m'\u001b[39m, \u001b[38;5;124m'\u001b[39m\u001b[38;5;124mweight\u001b[39m\u001b[38;5;124m'\u001b[39m, \u001b[38;5;124m'\u001b[39m\u001b[38;5;124mdeckHeight\u001b[39m\u001b[38;5;124m'\u001b[39m, \u001b[38;5;124m'\u001b[39m\u001b[38;5;124mrobotArmLength\u001b[39m\u001b[38;5;124m'\u001b[39m, \u001b[38;5;124m'\u001b[39m\u001b[38;5;124mnumberOfSolarPanels\u001b[39m\u001b[38;5;124m'\u001b[39m ])\n\u001b[1;32m     10\u001b[0m \u001b[38;5;28;01mwith\u001b[39;00m \u001b[38;5;28mopen\u001b[39m(\u001b[38;5;124m'\u001b[39m\u001b[38;5;124mmarslanderSpecs_1.csv\u001b[39m\u001b[38;5;124m'\u001b[39m, \u001b[38;5;124m'\u001b[39m\u001b[38;5;124mw\u001b[39m\u001b[38;5;124m'\u001b[39m, encoding\u001b[38;5;241m=\u001b[39m\u001b[38;5;124m'\u001b[39m\u001b[38;5;124mUTF8\u001b[39m\u001b[38;5;124m'\u001b[39m, newline\u001b[38;5;241m=\u001b[39m\u001b[38;5;124m'\u001b[39m\u001b[38;5;124m'\u001b[39m) \u001b[38;5;28;01mas\u001b[39;00m f:\n\u001b[1;32m     11\u001b[0m     writer \u001b[38;5;241m=\u001b[39m csv\u001b[38;5;241m.\u001b[39mDictWriter(f, fieldnames\u001b[38;5;241m=\u001b[39mmarslanderSpecs_header_1)\n",
      "\u001b[0;31mNameError\u001b[0m: name 'data' is not defined"
     ]
    }
   ],
   "source": [
    "#Oplossing opzet 2\n",
    "\n",
    "import csv\n",
    "\n",
    "marslanderSpecs = { 'length': 6, 'width': 1.56, 'weight': 360, 'deckHeight': (83, 108), 'robotArmLength': 1.8, 'numberOfSolarPanels': 2}\n",
    "\n",
    "marslanderSpecs_header_1 = (data['length', 'width', 'weight', 'deckHeight', 'robotArmLength', 'numberOfSolarPanels' ])\n",
    "\n",
    "\n",
    "with open('marslanderSpecs_1.csv', 'w', encoding='UTF8', newline='') as f:\n",
    "    writer = csv.DictWriter(f, fieldnames=marslanderSpecs_header_1)\n",
    "    writer.writeheader()\n",
    "    writer.writerow(marslanderSpecs)\n",
    "    "
   ]
  },
  {
   "cell_type": "code",
   "execution_count": 8,
   "id": "d606411c-8765-4990-8f3d-0c125ea9db79",
   "metadata": {},
   "outputs": [
    {
     "ename": "OSError",
     "evalue": "Cannot save file into a non-existent directory: 'csv'",
     "output_type": "error",
     "traceback": [
      "\u001b[0;31m---------------------------------------------------------------------------\u001b[0m",
      "\u001b[0;31mOSError\u001b[0m                                   Traceback (most recent call last)",
      "Input \u001b[0;32mIn [8]\u001b[0m, in \u001b[0;36m<cell line: 9>\u001b[0;34m()\u001b[0m\n\u001b[1;32m      6\u001b[0m marslanderSpecs\u001b[38;5;241m.\u001b[39mupdate( {\u001b[38;5;124m'\u001b[39m\u001b[38;5;124mscienceInstruments\u001b[39m\u001b[38;5;124m'\u001b[39m : (\u001b[38;5;124m\"\u001b[39m\u001b[38;5;124mseismometer\u001b[39m\u001b[38;5;124m\"\u001b[39m, \u001b[38;5;124m\"\u001b[39m\u001b[38;5;124mheat probe\u001b[39m\u001b[38;5;124m\"\u001b[39m, \u001b[38;5;124m\"\u001b[39m\u001b[38;5;124mradio science experiment\u001b[39m\u001b[38;5;124m\"\u001b[39m)} )\n\u001b[1;32m      8\u001b[0m df \u001b[38;5;241m=\u001b[39m pd\u001b[38;5;241m.\u001b[39mDataFrame({key:pd\u001b[38;5;241m.\u001b[39mSeries(value) \u001b[38;5;28;01mfor\u001b[39;00m key, value \u001b[38;5;129;01min\u001b[39;00m marslanderSpecs\u001b[38;5;241m.\u001b[39mitems()})\n\u001b[0;32m----> 9\u001b[0m \u001b[43mdf\u001b[49m\u001b[38;5;241;43m.\u001b[39;49m\u001b[43mto_csv\u001b[49m\u001b[43m(\u001b[49m\u001b[38;5;124;43m\"\u001b[39;49m\u001b[38;5;124;43mcsv/marslander.csv\u001b[39;49m\u001b[38;5;124;43m\"\u001b[39;49m\u001b[43m)\u001b[49m\n\u001b[1;32m     10\u001b[0m pd\u001b[38;5;241m.\u001b[39mread_csv(\u001b[38;5;124m\"\u001b[39m\u001b[38;5;124mcsv/marslander.csv\u001b[39m\u001b[38;5;124m\"\u001b[39m)\n",
      "File \u001b[0;32m~/MakeAIWork/env/lib/python3.8/site-packages/pandas/core/generic.py:3551\u001b[0m, in \u001b[0;36mNDFrame.to_csv\u001b[0;34m(self, path_or_buf, sep, na_rep, float_format, columns, header, index, index_label, mode, encoding, compression, quoting, quotechar, line_terminator, chunksize, date_format, doublequote, escapechar, decimal, errors, storage_options)\u001b[0m\n\u001b[1;32m   3540\u001b[0m df \u001b[38;5;241m=\u001b[39m \u001b[38;5;28mself\u001b[39m \u001b[38;5;28;01mif\u001b[39;00m \u001b[38;5;28misinstance\u001b[39m(\u001b[38;5;28mself\u001b[39m, ABCDataFrame) \u001b[38;5;28;01melse\u001b[39;00m \u001b[38;5;28mself\u001b[39m\u001b[38;5;241m.\u001b[39mto_frame()\n\u001b[1;32m   3542\u001b[0m formatter \u001b[38;5;241m=\u001b[39m DataFrameFormatter(\n\u001b[1;32m   3543\u001b[0m     frame\u001b[38;5;241m=\u001b[39mdf,\n\u001b[1;32m   3544\u001b[0m     header\u001b[38;5;241m=\u001b[39mheader,\n\u001b[0;32m   (...)\u001b[0m\n\u001b[1;32m   3548\u001b[0m     decimal\u001b[38;5;241m=\u001b[39mdecimal,\n\u001b[1;32m   3549\u001b[0m )\n\u001b[0;32m-> 3551\u001b[0m \u001b[38;5;28;01mreturn\u001b[39;00m \u001b[43mDataFrameRenderer\u001b[49m\u001b[43m(\u001b[49m\u001b[43mformatter\u001b[49m\u001b[43m)\u001b[49m\u001b[38;5;241;43m.\u001b[39;49m\u001b[43mto_csv\u001b[49m\u001b[43m(\u001b[49m\n\u001b[1;32m   3552\u001b[0m \u001b[43m    \u001b[49m\u001b[43mpath_or_buf\u001b[49m\u001b[43m,\u001b[49m\n\u001b[1;32m   3553\u001b[0m \u001b[43m    \u001b[49m\u001b[43mline_terminator\u001b[49m\u001b[38;5;241;43m=\u001b[39;49m\u001b[43mline_terminator\u001b[49m\u001b[43m,\u001b[49m\n\u001b[1;32m   3554\u001b[0m \u001b[43m    \u001b[49m\u001b[43msep\u001b[49m\u001b[38;5;241;43m=\u001b[39;49m\u001b[43msep\u001b[49m\u001b[43m,\u001b[49m\n\u001b[1;32m   3555\u001b[0m \u001b[43m    \u001b[49m\u001b[43mencoding\u001b[49m\u001b[38;5;241;43m=\u001b[39;49m\u001b[43mencoding\u001b[49m\u001b[43m,\u001b[49m\n\u001b[1;32m   3556\u001b[0m \u001b[43m    \u001b[49m\u001b[43merrors\u001b[49m\u001b[38;5;241;43m=\u001b[39;49m\u001b[43merrors\u001b[49m\u001b[43m,\u001b[49m\n\u001b[1;32m   3557\u001b[0m \u001b[43m    \u001b[49m\u001b[43mcompression\u001b[49m\u001b[38;5;241;43m=\u001b[39;49m\u001b[43mcompression\u001b[49m\u001b[43m,\u001b[49m\n\u001b[1;32m   3558\u001b[0m \u001b[43m    \u001b[49m\u001b[43mquoting\u001b[49m\u001b[38;5;241;43m=\u001b[39;49m\u001b[43mquoting\u001b[49m\u001b[43m,\u001b[49m\n\u001b[1;32m   3559\u001b[0m \u001b[43m    \u001b[49m\u001b[43mcolumns\u001b[49m\u001b[38;5;241;43m=\u001b[39;49m\u001b[43mcolumns\u001b[49m\u001b[43m,\u001b[49m\n\u001b[1;32m   3560\u001b[0m \u001b[43m    \u001b[49m\u001b[43mindex_label\u001b[49m\u001b[38;5;241;43m=\u001b[39;49m\u001b[43mindex_label\u001b[49m\u001b[43m,\u001b[49m\n\u001b[1;32m   3561\u001b[0m \u001b[43m    \u001b[49m\u001b[43mmode\u001b[49m\u001b[38;5;241;43m=\u001b[39;49m\u001b[43mmode\u001b[49m\u001b[43m,\u001b[49m\n\u001b[1;32m   3562\u001b[0m \u001b[43m    \u001b[49m\u001b[43mchunksize\u001b[49m\u001b[38;5;241;43m=\u001b[39;49m\u001b[43mchunksize\u001b[49m\u001b[43m,\u001b[49m\n\u001b[1;32m   3563\u001b[0m \u001b[43m    \u001b[49m\u001b[43mquotechar\u001b[49m\u001b[38;5;241;43m=\u001b[39;49m\u001b[43mquotechar\u001b[49m\u001b[43m,\u001b[49m\n\u001b[1;32m   3564\u001b[0m \u001b[43m    \u001b[49m\u001b[43mdate_format\u001b[49m\u001b[38;5;241;43m=\u001b[39;49m\u001b[43mdate_format\u001b[49m\u001b[43m,\u001b[49m\n\u001b[1;32m   3565\u001b[0m \u001b[43m    \u001b[49m\u001b[43mdoublequote\u001b[49m\u001b[38;5;241;43m=\u001b[39;49m\u001b[43mdoublequote\u001b[49m\u001b[43m,\u001b[49m\n\u001b[1;32m   3566\u001b[0m \u001b[43m    \u001b[49m\u001b[43mescapechar\u001b[49m\u001b[38;5;241;43m=\u001b[39;49m\u001b[43mescapechar\u001b[49m\u001b[43m,\u001b[49m\n\u001b[1;32m   3567\u001b[0m \u001b[43m    \u001b[49m\u001b[43mstorage_options\u001b[49m\u001b[38;5;241;43m=\u001b[39;49m\u001b[43mstorage_options\u001b[49m\u001b[43m,\u001b[49m\n\u001b[1;32m   3568\u001b[0m \u001b[43m\u001b[49m\u001b[43m)\u001b[49m\n",
      "File \u001b[0;32m~/MakeAIWork/env/lib/python3.8/site-packages/pandas/io/formats/format.py:1180\u001b[0m, in \u001b[0;36mDataFrameRenderer.to_csv\u001b[0;34m(self, path_or_buf, encoding, sep, columns, index_label, mode, compression, quoting, quotechar, line_terminator, chunksize, date_format, doublequote, escapechar, errors, storage_options)\u001b[0m\n\u001b[1;32m   1159\u001b[0m     created_buffer \u001b[38;5;241m=\u001b[39m \u001b[38;5;28;01mFalse\u001b[39;00m\n\u001b[1;32m   1161\u001b[0m csv_formatter \u001b[38;5;241m=\u001b[39m CSVFormatter(\n\u001b[1;32m   1162\u001b[0m     path_or_buf\u001b[38;5;241m=\u001b[39mpath_or_buf,\n\u001b[1;32m   1163\u001b[0m     line_terminator\u001b[38;5;241m=\u001b[39mline_terminator,\n\u001b[0;32m   (...)\u001b[0m\n\u001b[1;32m   1178\u001b[0m     formatter\u001b[38;5;241m=\u001b[39m\u001b[38;5;28mself\u001b[39m\u001b[38;5;241m.\u001b[39mfmt,\n\u001b[1;32m   1179\u001b[0m )\n\u001b[0;32m-> 1180\u001b[0m \u001b[43mcsv_formatter\u001b[49m\u001b[38;5;241;43m.\u001b[39;49m\u001b[43msave\u001b[49m\u001b[43m(\u001b[49m\u001b[43m)\u001b[49m\n\u001b[1;32m   1182\u001b[0m \u001b[38;5;28;01mif\u001b[39;00m created_buffer:\n\u001b[1;32m   1183\u001b[0m     \u001b[38;5;28;01massert\u001b[39;00m \u001b[38;5;28misinstance\u001b[39m(path_or_buf, StringIO)\n",
      "File \u001b[0;32m~/MakeAIWork/env/lib/python3.8/site-packages/pandas/io/formats/csvs.py:241\u001b[0m, in \u001b[0;36mCSVFormatter.save\u001b[0;34m(self)\u001b[0m\n\u001b[1;32m    237\u001b[0m \u001b[38;5;124;03m\"\"\"\u001b[39;00m\n\u001b[1;32m    238\u001b[0m \u001b[38;5;124;03mCreate the writer & save.\u001b[39;00m\n\u001b[1;32m    239\u001b[0m \u001b[38;5;124;03m\"\"\"\u001b[39;00m\n\u001b[1;32m    240\u001b[0m \u001b[38;5;66;03m# apply compression and byte/text conversion\u001b[39;00m\n\u001b[0;32m--> 241\u001b[0m \u001b[38;5;28;01mwith\u001b[39;00m \u001b[43mget_handle\u001b[49m\u001b[43m(\u001b[49m\n\u001b[1;32m    242\u001b[0m \u001b[43m    \u001b[49m\u001b[38;5;28;43mself\u001b[39;49m\u001b[38;5;241;43m.\u001b[39;49m\u001b[43mfilepath_or_buffer\u001b[49m\u001b[43m,\u001b[49m\n\u001b[1;32m    243\u001b[0m \u001b[43m    \u001b[49m\u001b[38;5;28;43mself\u001b[39;49m\u001b[38;5;241;43m.\u001b[39;49m\u001b[43mmode\u001b[49m\u001b[43m,\u001b[49m\n\u001b[1;32m    244\u001b[0m \u001b[43m    \u001b[49m\u001b[43mencoding\u001b[49m\u001b[38;5;241;43m=\u001b[39;49m\u001b[38;5;28;43mself\u001b[39;49m\u001b[38;5;241;43m.\u001b[39;49m\u001b[43mencoding\u001b[49m\u001b[43m,\u001b[49m\n\u001b[1;32m    245\u001b[0m \u001b[43m    \u001b[49m\u001b[43merrors\u001b[49m\u001b[38;5;241;43m=\u001b[39;49m\u001b[38;5;28;43mself\u001b[39;49m\u001b[38;5;241;43m.\u001b[39;49m\u001b[43merrors\u001b[49m\u001b[43m,\u001b[49m\n\u001b[1;32m    246\u001b[0m \u001b[43m    \u001b[49m\u001b[43mcompression\u001b[49m\u001b[38;5;241;43m=\u001b[39;49m\u001b[38;5;28;43mself\u001b[39;49m\u001b[38;5;241;43m.\u001b[39;49m\u001b[43mcompression\u001b[49m\u001b[43m,\u001b[49m\n\u001b[1;32m    247\u001b[0m \u001b[43m    \u001b[49m\u001b[43mstorage_options\u001b[49m\u001b[38;5;241;43m=\u001b[39;49m\u001b[38;5;28;43mself\u001b[39;49m\u001b[38;5;241;43m.\u001b[39;49m\u001b[43mstorage_options\u001b[49m\u001b[43m,\u001b[49m\n\u001b[1;32m    248\u001b[0m \u001b[43m\u001b[49m\u001b[43m)\u001b[49m \u001b[38;5;28;01mas\u001b[39;00m handles:\n\u001b[1;32m    249\u001b[0m \n\u001b[1;32m    250\u001b[0m     \u001b[38;5;66;03m# Note: self.encoding is irrelevant here\u001b[39;00m\n\u001b[1;32m    251\u001b[0m     \u001b[38;5;28mself\u001b[39m\u001b[38;5;241m.\u001b[39mwriter \u001b[38;5;241m=\u001b[39m csvlib\u001b[38;5;241m.\u001b[39mwriter(\n\u001b[1;32m    252\u001b[0m         handles\u001b[38;5;241m.\u001b[39mhandle,\n\u001b[1;32m    253\u001b[0m         lineterminator\u001b[38;5;241m=\u001b[39m\u001b[38;5;28mself\u001b[39m\u001b[38;5;241m.\u001b[39mline_terminator,\n\u001b[0;32m   (...)\u001b[0m\n\u001b[1;32m    258\u001b[0m         quotechar\u001b[38;5;241m=\u001b[39m\u001b[38;5;28mself\u001b[39m\u001b[38;5;241m.\u001b[39mquotechar,\n\u001b[1;32m    259\u001b[0m     )\n\u001b[1;32m    261\u001b[0m     \u001b[38;5;28mself\u001b[39m\u001b[38;5;241m.\u001b[39m_save()\n",
      "File \u001b[0;32m~/MakeAIWork/env/lib/python3.8/site-packages/pandas/io/common.py:694\u001b[0m, in \u001b[0;36mget_handle\u001b[0;34m(path_or_buf, mode, encoding, compression, memory_map, is_text, errors, storage_options)\u001b[0m\n\u001b[1;32m    692\u001b[0m \u001b[38;5;66;03m# Only for write methods\u001b[39;00m\n\u001b[1;32m    693\u001b[0m \u001b[38;5;28;01mif\u001b[39;00m \u001b[38;5;124m\"\u001b[39m\u001b[38;5;124mr\u001b[39m\u001b[38;5;124m\"\u001b[39m \u001b[38;5;129;01mnot\u001b[39;00m \u001b[38;5;129;01min\u001b[39;00m mode \u001b[38;5;129;01mand\u001b[39;00m is_path:\n\u001b[0;32m--> 694\u001b[0m     \u001b[43mcheck_parent_directory\u001b[49m\u001b[43m(\u001b[49m\u001b[38;5;28;43mstr\u001b[39;49m\u001b[43m(\u001b[49m\u001b[43mhandle\u001b[49m\u001b[43m)\u001b[49m\u001b[43m)\u001b[49m\n\u001b[1;32m    696\u001b[0m \u001b[38;5;28;01mif\u001b[39;00m compression:\n\u001b[1;32m    697\u001b[0m     \u001b[38;5;28;01mif\u001b[39;00m compression \u001b[38;5;241m!=\u001b[39m \u001b[38;5;124m\"\u001b[39m\u001b[38;5;124mzstd\u001b[39m\u001b[38;5;124m\"\u001b[39m:\n\u001b[1;32m    698\u001b[0m         \u001b[38;5;66;03m# compression libraries do not like an explicit text-mode\u001b[39;00m\n",
      "File \u001b[0;32m~/MakeAIWork/env/lib/python3.8/site-packages/pandas/io/common.py:568\u001b[0m, in \u001b[0;36mcheck_parent_directory\u001b[0;34m(path)\u001b[0m\n\u001b[1;32m    566\u001b[0m parent \u001b[38;5;241m=\u001b[39m Path(path)\u001b[38;5;241m.\u001b[39mparent\n\u001b[1;32m    567\u001b[0m \u001b[38;5;28;01mif\u001b[39;00m \u001b[38;5;129;01mnot\u001b[39;00m parent\u001b[38;5;241m.\u001b[39mis_dir():\n\u001b[0;32m--> 568\u001b[0m     \u001b[38;5;28;01mraise\u001b[39;00m \u001b[38;5;167;01mOSError\u001b[39;00m(\u001b[38;5;124mrf\u001b[39m\u001b[38;5;124m\"\u001b[39m\u001b[38;5;124mCannot save file into a non-existent directory: \u001b[39m\u001b[38;5;124m'\u001b[39m\u001b[38;5;132;01m{\u001b[39;00mparent\u001b[38;5;132;01m}\u001b[39;00m\u001b[38;5;124m'\u001b[39m\u001b[38;5;124m\"\u001b[39m)\n",
      "\u001b[0;31mOSError\u001b[0m: Cannot save file into a non-existent directory: 'csv'"
     ]
    }
   ],
   "source": [
    "import pandas as pd\n",
    "\n",
    "marslanderSpecs = { 'length': 6, 'width': 1.56, 'weight': 360, 'deckHeight': (83, 108), 'robotArmLength': 1.8, 'numberOfSolarPanels': 2}\n",
    "marslanderSpecs.items()\n",
    "marslanderSpecs.update( {'image': \"../pics/mars.nasa.jpg\"} )\n",
    "marslanderSpecs.update( {'scienceInstruments' : (\"seismometer\", \"heat probe\", \"radio science experiment\")} )\n",
    "\n",
    "df = pd.DataFrame({key:pd.Series(value) for key, value in marslanderSpecs.items()})\n",
    "df.to_csv(\"csv/marslander.csv\")\n",
    "pd.read_csv(\"csv/marslander.csv\")"
   ]
  },
  {
   "cell_type": "markdown",
   "id": "ef481205-753b-42ef-858d-84696e760708",
   "metadata": {},
   "source": [
    "<h3>Excercise 1</h3>\n",
    "<p>\n",
    "    <ol>\n",
    "        <li>Maak in de huidige directory (notebooks) de directory <i>csv</i> aan</li>\n",
    "        <li>Importeer de library <i>csv</i> of <i>pandas</i></li>\n",
    "        <li>Exporteer de dictionary marslanderSpecs naar het bestand <i>csv/marslander.csv</i><br></li>\n",
    "    </ol>\n",
    "    <strong>TIP : </strong>Zoek op https://stackoverflow.com/en naar geschikte voorbeelden\n",
    "</p> "
   ]
  },
  {
   "cell_type": "markdown",
   "id": "09a77d13-56a2-4d84-9554-266bac12c8bb",
   "metadata": {},
   "source": [
    "<h3>Mutaties</h3>"
   ]
  },
  {
   "cell_type": "markdown",
   "id": "5c443d17-4f1c-444d-988a-28753319ebe5",
   "metadata": {},
   "source": [
    "**Voorkom information loss door de inhoud van de dictionary eerst naar een ander plaats in het geheugen te kopiëren**"
   ]
  },
  {
   "cell_type": "code",
   "execution_count": null,
   "id": "3756229c-0b16-43b6-a495-c8bce87ff708",
   "metadata": {},
   "outputs": [],
   "source": [
    "marslanderSpecsCopy = marslanderSpecs.copy()"
   ]
  },
  {
   "cell_type": "markdown",
   "id": "0e990d4a-a8e3-4230-8749-a72347ffdb84",
   "metadata": {},
   "source": [
    "<p>De volgorde van waarmee items uit een data colection worden gepopt is Last In First Out (LIFO)</p>"
   ]
  },
  {
   "cell_type": "code",
   "execution_count": null,
   "id": "7fead617-0c2b-47f0-b535-084cde28ef54",
   "metadata": {},
   "outputs": [],
   "source": [
    "lastItem = marslanderSpecsCopy.popitem()\n",
    "print(lastItem) "
   ]
  },
  {
   "cell_type": "markdown",
   "id": "6e5c60aa-5693-4098-bcca-7d9b735c439e",
   "metadata": {},
   "source": [
    "<h3>Exercise 2</h3>\n",
    "<h4>Gegeven</h4>"
   ]
  },
  {
   "cell_type": "code",
   "execution_count": null,
   "id": "b78f2633-5fcd-46ab-a3a0-bcefb541d7e1",
   "metadata": {},
   "outputs": [],
   "source": [
    "moonlanderSpecs = { 'name': \"Apollo Lunar Module\", 'length': 7.04, 'width': 9.4 }\n",
    "moonlanderSpecsCopy = moonlanderSpecs"
   ]
  },
  {
   "cell_type": "markdown",
   "id": "28b30616-b186-4b6e-9d4e-1c307d4e1b0f",
   "metadata": {},
   "source": [
    "<h4>Gevraagd</h4>\n",
    "<p>\n",
    "Toon m.b.v. mutaties aan dat moonlanderSpecs en moonlanderSpecsCopy naar dezelfde plaats in het geheugen refereren. \n",
    "</p>"
   ]
  },
  {
   "cell_type": "markdown",
   "id": "8fefac94-8935-4a0b-94ea-f9ac86e6c1fa",
   "metadata": {},
   "source": [
    "<h4>Oplossing</h4>"
   ]
  },
  {
   "cell_type": "code",
   "execution_count": null,
   "id": "76955594-1a07-4e1a-abff-e77b717a8cf0",
   "metadata": {},
   "outputs": [],
   "source": [
    "moonlanderSpecs = { 'name': \"Apollo Lunar Module\", 'length': 7.04, 'width': 9.4 }\n",
    "moonlanderSpecsCopy = moonlanderSpecs\n",
    "\n",
    "moonlanderSpecs.update({'height': 9.6})\n",
    "\n",
    "print(moonlanderSpecs)\n",
    "moonlanderSpecsCopy == moonlanderSpecs"
   ]
  },
  {
   "cell_type": "markdown",
   "id": "ab2b77bd-ce14-4b32-91ab-ee81aded45df",
   "metadata": {},
   "source": [
    "<h3>Visualisatie</h3>"
   ]
  },
  {
   "cell_type": "markdown",
   "id": "5cfb1537-4bb1-453e-8e09-06b52a742814",
   "metadata": {},
   "source": [
    "**Importeer de Python Imaging Library (PIL) voor het renderen van een Image** "
   ]
  },
  {
   "cell_type": "code",
   "execution_count": null,
   "id": "c1c7a3e1-2814-4d53-ae6f-51b6e9ab34fd",
   "metadata": {},
   "outputs": [],
   "source": [
    "from PIL import Image"
   ]
  },
  {
   "cell_type": "code",
   "execution_count": 7,
   "id": "913b1435-3083-4d25-8d26-5ae6b4c10d10",
   "metadata": {},
   "outputs": [
    {
     "ename": "NameError",
     "evalue": "name 'Image' is not defined",
     "output_type": "error",
     "traceback": [
      "\u001b[0;31m---------------------------------------------------------------------------\u001b[0m",
      "\u001b[0;31mNameError\u001b[0m                                 Traceback (most recent call last)",
      "Input \u001b[0;32mIn [7]\u001b[0m, in \u001b[0;36m<cell line: 4>\u001b[0;34m()\u001b[0m\n\u001b[1;32m      2\u001b[0m marslanderSpecs\u001b[38;5;241m.\u001b[39mitems()\n\u001b[1;32m      3\u001b[0m marslanderSpecs\u001b[38;5;241m.\u001b[39mupdate( {\u001b[38;5;124m'\u001b[39m\u001b[38;5;124mimage\u001b[39m\u001b[38;5;124m'\u001b[39m: \u001b[38;5;124m\"\u001b[39m\u001b[38;5;124m/Users/JeroenArians/MakeAIWork/notebooks/pics/mars.nasa.jpg\u001b[39m\u001b[38;5;124m\"\u001b[39m} )\n\u001b[0;32m----> 4\u001b[0m img \u001b[38;5;241m=\u001b[39m \u001b[43mImage\u001b[49m\u001b[38;5;241m.\u001b[39mopen( marslanderSpecs\u001b[38;5;241m.\u001b[39mget(\u001b[38;5;124m'\u001b[39m\u001b[38;5;124mimage\u001b[39m\u001b[38;5;124m'\u001b[39m) )\n\u001b[1;32m      5\u001b[0m percentage \u001b[38;5;241m=\u001b[39m \u001b[38;5;241m1.1\u001b[39m\n\u001b[1;32m      6\u001b[0m width, height \u001b[38;5;241m=\u001b[39m img\u001b[38;5;241m.\u001b[39msize\n",
      "\u001b[0;31mNameError\u001b[0m: name 'Image' is not defined"
     ]
    }
   ],
   "source": [
    "marslanderSpecs = { 'length': 6, 'width': 1.56, 'weight': 360, 'deckHeight': (83, 108), 'robotArmLength': 1.8, 'numberOfSolarPanels': 2}\n",
    "marslanderSpecs.items()\n",
    "marslanderSpecs.update( {'image': \"/Users/JeroenArians/MakeAIWork/notebooks/pics/mars.nasa.jpg\"} )\n",
    "img = Image.open( marslanderSpecs.get('image') )\n",
    "percentage = 1.1\n",
    "width, height = img.size\n",
    "resizedDimensions = (int(width * percentage), int(height * percentage))\n",
    "resizedImg = img.resize(resizedDimensions)\n",
    "resizedImg.show()\n"
   ]
  },
  {
   "cell_type": "markdown",
   "id": "141254b3-9a26-4a73-9477-dc5701d8b72c",
   "metadata": {},
   "source": [
    "<h3>Iteratie</h3>"
   ]
  },
  {
   "cell_type": "code",
   "execution_count": null,
   "id": "65af11f0-5de0-40c7-b075-8f930bc27801",
   "metadata": {},
   "outputs": [],
   "source": [
    "for (key, value) in marslanderSpecs.items():\n",
    "    print(key, value)"
   ]
  },
  {
   "cell_type": "markdown",
   "id": "8d0e34dc-3d69-47c1-9e78-e9b7124c63b7",
   "metadata": {},
   "source": [
    "<h3>Exercise 3</h3>\n",
    "<p>Laat m.b.v. iteratie zien dat <u>alle</u> elementen van een dictionary 2-tuples zijn</p>"
   ]
  },
  {
   "cell_type": "code",
   "execution_count": null,
   "id": "68dc008a-32f0-4b7f-8f9e-fb179dee9e5f",
   "metadata": {},
   "outputs": [],
   "source": [
    "# Oplossing\n",
    "\n",
    "for itemMars in marslanderSpecs.items():\n",
    "    print(itemMars)"
   ]
  },
  {
   "cell_type": "markdown",
   "id": "a5514288-5623-4f8c-a41e-f4782fddf522",
   "metadata": {},
   "source": [
    "<p><strong>NB : </strong>Zorg ervoor dat je zowel dit notebook als het bij Execercise 1 aangemaakte csv-bestand naar je remote git repository pusht</p>"
   ]
  }
 ],
 "metadata": {
  "kernelspec": {
   "display_name": "Python 3 (ipykernel)",
   "language": "python",
   "name": "python3"
  },
  "language_info": {
   "codemirror_mode": {
    "name": "ipython",
    "version": 3
   },
   "file_extension": ".py",
   "mimetype": "text/x-python",
   "name": "python",
   "nbconvert_exporter": "python",
   "pygments_lexer": "ipython3",
   "version": "3.8.9"
  }
 },
 "nbformat": 4,
 "nbformat_minor": 5
}
