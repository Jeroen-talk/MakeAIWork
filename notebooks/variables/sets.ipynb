{
 "cells": [
  {
   "cell_type": "markdown",
   "id": "39ad5385-bd3b-4733-8583-aaee47dfd023",
   "metadata": {},
   "source": [
    "<a href=\"https://it-omscholing.nl/locaties/hogeschool-rotterdam/\">\n",
    "<div>\n",
    "<a><img src='../pics/banner.PNG'/></a>\n",
    "</div>\n",
    "<div>\n",
    "<a href=''><img src='../pics/miw.PNG'/></a>\n",
    "<em>Author: Jeroen Boogaard</em>\n",
    "</div>\n",
    "</a>"
   ]
  },
  {
   "cell_type": "markdown",
   "id": "2e3ab9dd-f769-4b88-87d0-59bb6af381f6",
   "metadata": {},
   "source": [
    "<h1>Samengestelde variabelen - Sets</h1>"
   ]
  },
  {
   "cell_type": "markdown",
   "id": "1dd30cb7-4573-48b9-9b50-4e64b414213e",
   "metadata": {},
   "source": [
    "**Een set is een <u>mutable</u> dataverzameling van <u>unieke</u> elementen.**"
   ]
  },
  {
   "cell_type": "markdown",
   "id": "443e2275-c790-4153-82c2-f08782f7856c",
   "metadata": {},
   "source": [
    "<h3>Set variabelen aanmaken en afdrukken</h3>"
   ]
  },
  {
   "cell_type": "code",
   "execution_count": 121,
   "id": "b5ca0430-4eb8-4eeb-a899-151ebbbf7f13",
   "metadata": {},
   "outputs": [
    {
     "name": "stdout",
     "output_type": "stream",
     "text": [
      "{'Voyager', 'Pioneer'}\n"
     ]
    }
   ],
   "source": [
    "spaceCrafts = set()\n",
    "counter = 0\n",
    "spaceCrafts = {\"Pioneer\", \"Voyager\"}\n",
    "print(spaceCrafts)"
   ]
  },
  {
   "cell_type": "raw",
   "id": "15eaabd3-5697-474e-9a46-a384a242c8a4",
   "metadata": {},
   "source": [
    "Elementen kunnen aan een bestaande set worden toegevoegd.."
   ]
  },
  {
   "cell_type": "code",
   "execution_count": 122,
   "id": "e8e00fbb-0a04-4754-9fdc-0ea3bc54f43e",
   "metadata": {},
   "outputs": [
    {
     "name": "stdout",
     "output_type": "stream",
     "text": [
      "{'Voyager', 'Pioneer'}\n"
     ]
    }
   ],
   "source": [
    "spaceCrafts = set()\n",
    "counter = 0\n",
    "spaceCrafts = {\"Pioneer\", \"Voyager\"}\n",
    "\n",
    "print(spaceCrafts)\n",
    "\n"
   ]
  },
  {
   "cell_type": "raw",
   "id": "93db2ef6-ce73-4ce3-8cff-7aa0babea2f2",
   "metadata": {},
   "source": [
    "maar elk element komt slechts 1 keer voor"
   ]
  },
  {
   "cell_type": "code",
   "execution_count": 123,
   "id": "e51fcac8-8062-4c48-bc39-d191f7742c65",
   "metadata": {},
   "outputs": [
    {
     "name": "stdout",
     "output_type": "stream",
     "text": [
      "{'TOEVOEGING', 'Voyager', 'Pioneer'}\n"
     ]
    }
   ],
   "source": [
    "spaceCrafts = set()\n",
    "counter = 0\n",
    "spaceCrafts = {\"Pioneer\", \"Voyager\"}\n",
    "spaceCrafts.add(\"TOEVOEGING\")\n",
    "\n",
    "print(spaceCrafts)"
   ]
  },
  {
   "cell_type": "markdown",
   "id": "7e55fb56-f386-4785-8841-90d1844db4d7",
   "metadata": {},
   "source": [
    "<h3>Exercise 1</h3>\n",
    "<h4>Gegeven</h4>"
   ]
  },
  {
   "cell_type": "code",
   "execution_count": 124,
   "id": "065d6065-9d59-47f3-ba49-0c6cd4dd15f3",
   "metadata": {},
   "outputs": [
    {
     "name": "stdout",
     "output_type": "stream",
     "text": [
      "[0, 1, 1, 2, 3, 5, 8, 13, 21, 34, 55, 89, 144, 233, 377]\n"
     ]
    }
   ],
   "source": [
    "fibonacciList = [0, 1, 1, 2, 3, 5, 8, 13, 21, 34, 55, 89, 144, 233, 377]\n",
    "print(fibonacciList)"
   ]
  },
  {
   "cell_type": "markdown",
   "id": "def776af-43e4-4bd7-a17b-8778b318dcfd",
   "metadata": {},
   "source": [
    "<h4>Gevraagd</h4>\n",
    "<p>Maak gebruik van <u>casting</u> om variabele <i>fibonacciList</i> te ontdubbelen</p>"
   ]
  },
  {
   "cell_type": "markdown",
   "id": "4eabe9bd-dd7f-4f83-872f-e63e25146ca4",
   "metadata": {},
   "source": [
    "<h4>Oplossing</h4>"
   ]
  },
  {
   "cell_type": "code",
   "execution_count": 125,
   "id": "65a28c92-758e-49b9-b2b6-bd78e79e7642",
   "metadata": {},
   "outputs": [
    {
     "name": "stdout",
     "output_type": "stream",
     "text": [
      "[0, 1, 2, 3, 34, 5, 8, 233, 377, 13, 144, 21, 55, 89]\n"
     ]
    }
   ],
   "source": [
    "#oplidding 1\n",
    "\n",
    "fibonacciList = [0, 1, 1, 2, 3, 5, 8, 13, 21, 34, 55, 89, 144, 233, 377]\n",
    "minDubbel = set(fibonacciList)\n",
    "fibonacciList = list(minDubbel)\n",
    "print(fibonacciList)"
   ]
  },
  {
   "cell_type": "code",
   "execution_count": 126,
   "id": "002a0381-e20c-443d-8c13-30343046241b",
   "metadata": {},
   "outputs": [
    {
     "name": "stdout",
     "output_type": "stream",
     "text": [
      "{0, 1, 2, 3, 34, 5, 8, 233, 377, 13, 144, 21, 55, 89}\n"
     ]
    }
   ],
   "source": [
    "#oplossing 2\n",
    "\n",
    "fibonacciList = [0, 1, 1, 2, 3, 5, 8, 13, 21, 34, 55, 89, 144, 233, 377]\n",
    "fibonacciSet = set()\n",
    "for i in fibonacciList:\n",
    "    fibonacciSet.add(i)\n",
    "\n",
    "print(fibonacciSet) "
   ]
  },
  {
   "cell_type": "markdown",
   "id": "3c57550b-cd11-4a6d-a806-946830cbb1cd",
   "metadata": {},
   "source": [
    "<h3>Operaties</h3>"
   ]
  },
  {
   "cell_type": "code",
   "execution_count": 127,
   "id": "46e0e7e4-1cc9-47f3-bc53-d3888252e583",
   "metadata": {},
   "outputs": [],
   "source": [
    "nordics = {\"Denmark\", \"Finland\", \"Iceland\", \"Norway\"}\n",
    "baltics = {\"Estonia\", \"Latvia\", \"Lithuania\"}\n",
    "eu = {\"Austria\", \"Belgium\", \"Bulgaria\", \"Croatia\", \"Cyprus\", \"Czechia\", \"Denmark\", \"Estonia\", \"Finland\", \"France\", \"Germany\", \"Greece\", \"Hungary\", \"Ireland\", \"Italy\", \"Latvia\", \"Lithuania\", \"Luxembourg\", \"Malta\", \"The Netherlands\", \"Poland\", \"Portugal\", \"Romania\", \"Slovakia\", \"Slovenia\", \"Spain\", \"Sweden\"}"
   ]
  },
  {
   "cell_type": "markdown",
   "id": "b2c79908-ca34-4657-8481-7a959aa046a5",
   "metadata": {},
   "source": [
    "<h3>Exercise 2</h3>\n",
    "<h4>Gegeven</h4>"
   ]
  },
  {
   "cell_type": "code",
   "execution_count": 128,
   "id": "96daa91c-96a8-41a7-b202-6e4a77876ef0",
   "metadata": {},
   "outputs": [
    {
     "name": "stdout",
     "output_type": "stream",
     "text": [
      "{'Luxembourg', 'Belgium', 'The Netherlands'}\n"
     ]
    }
   ],
   "source": [
    "benelux = {\"Belgium\", \"The Netherlands\", \"Luxembourg\"}\n",
    "print(benelux)"
   ]
  },
  {
   "cell_type": "markdown",
   "id": "80d32381-df51-4185-a4ba-1ed9cf9c6ba2",
   "metadata": {},
   "source": [
    "<h4>Gevraagd</h4>\n",
    "<p>Maak een String met als <u>value</u> \"BeNeLux\" die is opgebouwd uit de letters van corresponderende items uit de set <i>benelux</i> zonder de set variabele zelf aan te passen</p>\n",
    "<p>Hints:<ol>\n",
    "    <li>Maak gebruik (tijdelijke) variable van het type list</li>\n",
    "    <li>Pas daarin het item \"The Netherlands zodat het consistent is met de andere items</li>\n",
    "</ol></p>    "
   ]
  },
  {
   "cell_type": "markdown",
   "id": "871adbea-f738-4d20-8fe9-50ef3e6cbd15",
   "metadata": {},
   "source": [
    "<h4>Oplossing</h4>"
   ]
  },
  {
   "cell_type": "code",
   "execution_count": 129,
   "id": "53417987-3497-4658-a6e1-02d9370b966a",
   "metadata": {},
   "outputs": [
    {
     "name": "stdout",
     "output_type": "stream",
     "text": [
      "BelgiumLuxembourgThe Netherlands\n"
     ]
    }
   ],
   "source": [
    "#Oplossing opzet 1\n",
    "\n",
    "benelux = {\"Belgium\", \"The Netherlands\", \"Luxembourg\"}\n",
    "benelux = list(benelux)\n",
    "benelux.sort()\n",
    "BeNeLux = ''.join(map(str,benelux))\n",
    "\n",
    "print(BeNeLux)"
   ]
  },
  {
   "cell_type": "code",
   "execution_count": 130,
   "id": "732f6453-5268-4397-a17c-09fad1e69a83",
   "metadata": {},
   "outputs": [
    {
     "name": "stdout",
     "output_type": "stream",
     "text": [
      "Be\n",
      "Ne\n",
      "The\n"
     ]
    }
   ],
   "source": [
    "#Oplossing opzet 2\n",
    "\n",
    "benelux_1 = {\"Belgium\", \"The Netherlands\", \"Luxembourg\"}\n",
    "benelux_1 = list(benelux_1)\n",
    "benelux_1.sort()\n",
    "benelux_1[1] = benelux[2]\n",
    "benelux_1[1] = 'Netherlands'\n",
    "BeNeLux_1 = ''.join(map(str,benelux_1))\n",
    "print(BeNeLux_1[0:2])\n",
    "print(BeNeLux_1[7:9])\n",
    "print(BeNeLux_1[18:21])"
   ]
  },
  {
   "cell_type": "code",
   "execution_count": 131,
   "id": "973d0f51-c9f9-4335-883c-c1977ae839cd",
   "metadata": {},
   "outputs": [
    {
     "name": "stdout",
     "output_type": "stream",
     "text": [
      "BelgiumLuxembourgThe Netherlands\n"
     ]
    }
   ],
   "source": [
    "#Oplossing DEF\n",
    "\n",
    "\n",
    "benelux_2 = {\"Belgium\", \"The Netherlands\", \"Luxembourg\"}\n",
    "benelux_2 = list(benelux_2)\n",
    "benelux_2.sort()\n",
    "benelux_2[2] = benelux_2[1]\n",
    "benelux_2[1] = \"Ne\"\n",
    "benelux_2[0] = \"Be\"\n",
    "benelux_2[2] = \"Lux\"\n",
    "BeNeLux_2 = ''.join(map(str,benelux_2))\n",
    "print(BeNeLux)"
   ]
  },
  {
   "cell_type": "markdown",
   "id": "978e6a57-c504-4a92-8926-c7d1bd6d5027",
   "metadata": {},
   "source": [
    "<h3>Visualisatie</h3>"
   ]
  },
  {
   "cell_type": "markdown",
   "id": "3b6e45d3-f358-4ffc-87a0-ae0bb5aa424b",
   "metadata": {},
   "source": [
    "<p>Open een (git)bash terminal en run<br>\n",
    "    <i>pip install matplotlib-venn</i>\n",
    "<p>"
   ]
  },
  {
   "cell_type": "markdown",
   "id": "1a0ef2e6-bd8b-4bc0-a6b3-cdaadd2b2942",
   "metadata": {},
   "source": [
    "Vervolgens importeren we de modules <i>venn2</i>, <i>venn3</i> en <i>pylot</i>"
   ]
  },
  {
   "cell_type": "code",
   "execution_count": 132,
   "id": "a0d796dc-7580-4937-a2cc-09d5b5c4e432",
   "metadata": {},
   "outputs": [],
   "source": [
    "from matplotlib_venn import venn2, venn3\n",
    "from matplotlib import pyplot as plt"
   ]
  },
  {
   "cell_type": "markdown",
   "id": "e376b04f-106c-4e3b-aeb5-79af2221a522",
   "metadata": {},
   "source": [
    "**Gebruik een Venn diagram om Sets en hun relaties te visualiseren**"
   ]
  },
  {
   "cell_type": "markdown",
   "id": "ad3f1cb6-7c43-4636-bf27-f1cd811cd140",
   "metadata": {},
   "source": [
    "<p>De Sets benelux, nordics en baltics zijn <strong>disjunct</strong>..</p>"
   ]
  },
  {
   "cell_type": "code",
   "execution_count": 134,
   "id": "1a90d4ce-5d4b-45eb-becb-9a041ee81510",
   "metadata": {},
   "outputs": [
    {
     "ename": "ValueError",
     "evalue": "All arguments must be of the same type",
     "output_type": "error",
     "traceback": [
      "\u001b[0;31m---------------------------------------------------------------------------\u001b[0m",
      "\u001b[0;31mValueError\u001b[0m                                Traceback (most recent call last)",
      "\u001b[1;32m/Users/JeroenArians/MakeAIWork/notebooks/variables/sets.ipynb Cell 31\u001b[0m in \u001b[0;36m<cell line: 4>\u001b[0;34m()\u001b[0m\n\u001b[1;32m      <a href='vscode-notebook-cell:/Users/JeroenArians/MakeAIWork/notebooks/variables/sets.ipynb#X42sZmlsZQ%3D%3D?line=0'>1</a>\u001b[0m \u001b[39mfrom\u001b[39;00m \u001b[39mmatplotlib_venn\u001b[39;00m \u001b[39mimport\u001b[39;00m venn2, venn3\n\u001b[1;32m      <a href='vscode-notebook-cell:/Users/JeroenArians/MakeAIWork/notebooks/variables/sets.ipynb#X42sZmlsZQ%3D%3D?line=1'>2</a>\u001b[0m \u001b[39mfrom\u001b[39;00m \u001b[39mmatplotlib\u001b[39;00m \u001b[39mimport\u001b[39;00m pyplot \u001b[39mas\u001b[39;00m plt\n\u001b[0;32m----> <a href='vscode-notebook-cell:/Users/JeroenArians/MakeAIWork/notebooks/variables/sets.ipynb#X42sZmlsZQ%3D%3D?line=3'>4</a>\u001b[0m venn3([benelux, nordics, baltics], (\u001b[39m'\u001b[39;49m\u001b[39mBenelux\u001b[39;49m\u001b[39m'\u001b[39;49m, \u001b[39m'\u001b[39;49m\u001b[39mNordics\u001b[39;49m\u001b[39m'\u001b[39;49m, \u001b[39m'\u001b[39;49m\u001b[39mBaltics\u001b[39;49m\u001b[39m'\u001b[39;49m))\n",
      "File \u001b[0;32m~/MakeAIWork/env/lib/python3.8/site-packages/matplotlib_venn/_venn3.py:345\u001b[0m, in \u001b[0;36mvenn3\u001b[0;34m(subsets, set_labels, set_colors, alpha, normalize_to, ax, subset_label_formatter)\u001b[0m\n\u001b[1;32m    343\u001b[0m     subsets \u001b[39m=\u001b[39m [subsets\u001b[39m.\u001b[39mget(t, \u001b[39m0\u001b[39m) \u001b[39mfor\u001b[39;00m t \u001b[39min\u001b[39;00m [\u001b[39m'\u001b[39m\u001b[39m100\u001b[39m\u001b[39m'\u001b[39m, \u001b[39m'\u001b[39m\u001b[39m010\u001b[39m\u001b[39m'\u001b[39m, \u001b[39m'\u001b[39m\u001b[39m110\u001b[39m\u001b[39m'\u001b[39m, \u001b[39m'\u001b[39m\u001b[39m001\u001b[39m\u001b[39m'\u001b[39m, \u001b[39m'\u001b[39m\u001b[39m101\u001b[39m\u001b[39m'\u001b[39m, \u001b[39m'\u001b[39m\u001b[39m011\u001b[39m\u001b[39m'\u001b[39m, \u001b[39m'\u001b[39m\u001b[39m111\u001b[39m\u001b[39m'\u001b[39m]]\n\u001b[1;32m    344\u001b[0m \u001b[39melif\u001b[39;00m \u001b[39mlen\u001b[39m(subsets) \u001b[39m==\u001b[39m \u001b[39m3\u001b[39m:\n\u001b[0;32m--> 345\u001b[0m     subsets \u001b[39m=\u001b[39m compute_venn3_subsets(\u001b[39m*\u001b[39;49msubsets)\n\u001b[1;32m    347\u001b[0m \u001b[39mif\u001b[39;00m subset_label_formatter \u001b[39mis\u001b[39;00m \u001b[39mNone\u001b[39;00m:\n\u001b[1;32m    348\u001b[0m     subset_label_formatter \u001b[39m=\u001b[39m \u001b[39mstr\u001b[39m\n",
      "File \u001b[0;32m~/MakeAIWork/env/lib/python3.8/site-packages/matplotlib_venn/_venn3.py:257\u001b[0m, in \u001b[0;36mcompute_venn3_subsets\u001b[0;34m(a, b, c)\u001b[0m\n\u001b[1;32m    220\u001b[0m \u001b[39m'''\u001b[39;00m\n\u001b[1;32m    221\u001b[0m \u001b[39mGiven three set or Counter objects, computes the sizes of (a & ~b & ~c, ~a & b & ~c, a & b & ~c, ....),\u001b[39;00m\n\u001b[1;32m    222\u001b[0m \u001b[39mas needed by the subsets parameter of venn3 and venn3_circles.\u001b[39;00m\n\u001b[0;32m   (...)\u001b[0m\n\u001b[1;32m    254\u001b[0m \u001b[39mValueError: All arguments must be of the same type\u001b[39;00m\n\u001b[1;32m    255\u001b[0m \u001b[39m'''\u001b[39;00m\n\u001b[1;32m    256\u001b[0m \u001b[39mif\u001b[39;00m \u001b[39mnot\u001b[39;00m (\u001b[39mtype\u001b[39m(a) \u001b[39m==\u001b[39m \u001b[39mtype\u001b[39m(b) \u001b[39m==\u001b[39m \u001b[39mtype\u001b[39m(c)):\n\u001b[0;32m--> 257\u001b[0m     \u001b[39mraise\u001b[39;00m \u001b[39mValueError\u001b[39;00m(\u001b[39m\"\u001b[39m\u001b[39mAll arguments must be of the same type\u001b[39m\u001b[39m\"\u001b[39m)\n\u001b[1;32m    258\u001b[0m set_size \u001b[39m=\u001b[39m \u001b[39mlen\u001b[39m \u001b[39mif\u001b[39;00m \u001b[39mtype\u001b[39m(a) \u001b[39m!=\u001b[39m Counter \u001b[39melse\u001b[39;00m \u001b[39mlambda\u001b[39;00m x: \u001b[39msum\u001b[39m(x\u001b[39m.\u001b[39mvalues())   \u001b[39m# We cannot use len to compute the cardinality of a Counter\u001b[39;00m\n\u001b[1;32m    259\u001b[0m \u001b[39mreturn\u001b[39;00m (set_size(a \u001b[39m-\u001b[39m (b \u001b[39m|\u001b[39m c)),  \u001b[39m# TODO: This is certainly not the most efficient way to compute.\u001b[39;00m\n\u001b[1;32m    260\u001b[0m     set_size(b \u001b[39m-\u001b[39m (a \u001b[39m|\u001b[39m c)),\n\u001b[1;32m    261\u001b[0m     set_size((a \u001b[39m&\u001b[39m b) \u001b[39m-\u001b[39m c),\n\u001b[0;32m   (...)\u001b[0m\n\u001b[1;32m    264\u001b[0m     set_size((b \u001b[39m&\u001b[39m c) \u001b[39m-\u001b[39m a),\n\u001b[1;32m    265\u001b[0m     set_size(a \u001b[39m&\u001b[39m b \u001b[39m&\u001b[39m c))\n",
      "\u001b[0;31mValueError\u001b[0m: All arguments must be of the same type"
     ]
    }
   ],
   "source": [
    "from matplotlib_venn import venn2, venn3\n",
    "from matplotlib import pyplot as plt\n",
    "\n",
    "venn3([benelux, nordics, baltics], ('Benelux', 'Nordics', 'Baltics'))"
   ]
  },
  {
   "cell_type": "markdown",
   "id": "7e2160a3-a90e-4d16-9f11-5f39458c5f9d",
   "metadata": {},
   "source": [
    "<p>dat wil zeggen dat ze geen enkel item met elkaar gemeen hebben</p>"
   ]
  },
  {
   "cell_type": "code",
   "execution_count": null,
   "id": "7e84e822-09ec-4b96-9268-6208c53535c1",
   "metadata": {},
   "outputs": [],
   "source": [
    "benelux.symmetric_difference(nordics).symmetric_difference(baltics)"
   ]
  },
  {
   "cell_type": "markdown",
   "id": "ea751320-05f1-41d1-97ba-3f8de4240166",
   "metadata": {},
   "source": [
    "**Gebruik <i>union</i> om verzamelingen verenigen**"
   ]
  },
  {
   "cell_type": "code",
   "execution_count": 135,
   "id": "4f803d2e-f0cc-43bf-a5b9-f282adb27811",
   "metadata": {},
   "outputs": [
    {
     "ename": "AttributeError",
     "evalue": "'list' object has no attribute 'union'",
     "output_type": "error",
     "traceback": [
      "\u001b[0;31m---------------------------------------------------------------------------\u001b[0m",
      "\u001b[0;31mAttributeError\u001b[0m                            Traceback (most recent call last)",
      "\u001b[1;32m/Users/JeroenArians/MakeAIWork/notebooks/variables/sets.ipynb Cell 35\u001b[0m in \u001b[0;36m<cell line: 1>\u001b[0;34m()\u001b[0m\n\u001b[0;32m----> <a href='vscode-notebook-cell:/Users/JeroenArians/MakeAIWork/notebooks/variables/sets.ipynb#X46sZmlsZQ%3D%3D?line=0'>1</a>\u001b[0m subUnion \u001b[39m=\u001b[39m benelux\u001b[39m.\u001b[39;49munion(nordics)\u001b[39m.\u001b[39munion(baltics)\n\u001b[1;32m      <a href='vscode-notebook-cell:/Users/JeroenArians/MakeAIWork/notebooks/variables/sets.ipynb#X46sZmlsZQ%3D%3D?line=1'>2</a>\u001b[0m venn2([benelux, subUnion], (\u001b[39m'\u001b[39m\u001b[39mBenelux\u001b[39m\u001b[39m'\u001b[39m, \u001b[39m'\u001b[39m\u001b[39mBenelux, Nordics and Baltics\u001b[39m\u001b[39m'\u001b[39m))\n\u001b[1;32m      <a href='vscode-notebook-cell:/Users/JeroenArians/MakeAIWork/notebooks/variables/sets.ipynb#X46sZmlsZQ%3D%3D?line=2'>3</a>\u001b[0m plt\u001b[39m.\u001b[39mshow()\n",
      "\u001b[0;31mAttributeError\u001b[0m: 'list' object has no attribute 'union'"
     ]
    }
   ],
   "source": [
    "subUnion = benelux.union(nordics).union(baltics)\n",
    "venn2([benelux, subUnion], ('Benelux', 'Benelux, Nordics and Baltics'))\n",
    "plt.show()"
   ]
  },
  {
   "cell_type": "markdown",
   "id": "b67a0424-1e9a-4b4d-952e-aa1d351c14cb",
   "metadata": {},
   "source": [
    "<p>De Sets benelux, nordics en baltics zijn allen een eigen <strong>subset</strong> van eu</p>"
   ]
  },
  {
   "cell_type": "markdown",
   "id": "3229dad1-3579-41bd-b4e6-8d49f5c04ed4",
   "metadata": {},
   "source": [
    "<p>Niet alle landen uit <i>subUnion</i> zijn lid van de Europese Unie</p>"
   ]
  },
  {
   "cell_type": "code",
   "execution_count": null,
   "id": "7678cfc6-6e6a-4132-b221-1e303c28ef4f",
   "metadata": {},
   "outputs": [],
   "source": [
    "baltics.issubset(eu) and benelux.issubset(eu) and nordics.issubset(eu)"
   ]
  },
  {
   "cell_type": "markdown",
   "id": "e6dc0310-0784-434a-acc1-5a21b4a4b2c5",
   "metadata": {},
   "source": [
    "**Gebruik de methode <i>intersection</i> voor de doorsnede van twee Sets**"
   ]
  },
  {
   "cell_type": "code",
   "execution_count": null,
   "id": "e79a1f39-afc1-43f1-a060-3e6a7976b5fd",
   "metadata": {},
   "outputs": [],
   "source": [
    "eu.intersection(nordics)"
   ]
  },
  {
   "cell_type": "code",
   "execution_count": null,
   "id": "789bb115-e680-4d25-8646-709ba8e8e346",
   "metadata": {},
   "outputs": [],
   "source": [
    "venn2([eu, subUnion], ('EU', 'Benelux, Nordics and Baltics'))\n",
    "plt.show()"
   ]
  },
  {
   "cell_type": "markdown",
   "id": "ad46e130-fa09-45b4-b153-f2ce9a844009",
   "metadata": {},
   "source": [
    "<h3>Exercise 3</h3>\n",
    "<p>Gebruik de methode <u>difference</u> om de landen weer te geven die (nog) geen lid zijn van de EU</p>"
   ]
  },
  {
   "cell_type": "code",
   "execution_count": null,
   "id": "38cc4967-92d4-46de-80c7-835296449c29",
   "metadata": {},
   "outputs": [],
   "source": [
    "nordics.difference(eu)"
   ]
  }
 ],
 "metadata": {
  "kernelspec": {
   "display_name": "Python 3.8.9 ('env': venv)",
   "language": "python",
   "name": "python3"
  },
  "language_info": {
   "codemirror_mode": {
    "name": "ipython",
    "version": 3
   },
   "file_extension": ".py",
   "mimetype": "text/x-python",
   "name": "python",
   "nbconvert_exporter": "python",
   "pygments_lexer": "ipython3",
   "version": "3.8.9"
  },
  "toc-autonumbering": false,
  "vscode": {
   "interpreter": {
    "hash": "db3e042390c8d3382d7733689e2ca9d3b131f9b76efb1c210d3bc94e385be943"
   }
  }
 },
 "nbformat": 4,
 "nbformat_minor": 5
}
