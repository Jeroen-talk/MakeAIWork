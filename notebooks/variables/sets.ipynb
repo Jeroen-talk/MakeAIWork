{
 "cells": [
  {
   "cell_type": "markdown",
   "id": "39ad5385-bd3b-4733-8583-aaee47dfd023",
   "metadata": {},
   "source": [
    "<a href=\"https://it-omscholing.nl/locaties/hogeschool-rotterdam/\">\n",
    "<div>\n",
    "<a><img src='../pics/banner.PNG'/></a>\n",
    "</div>\n",
    "<div>\n",
    "<a href=''><img src='../pics/miw.PNG'/></a>\n",
    "<em>Author: Jeroen Boogaard</em>\n",
    "</div>\n",
    "</a>"
   ]
  },
  {
   "cell_type": "markdown",
   "id": "2e3ab9dd-f769-4b88-87d0-59bb6af381f6",
   "metadata": {},
   "source": [
    "<h1>Samengestelde variabelen - Sets</h1>"
   ]
  },
  {
   "cell_type": "markdown",
   "id": "1dd30cb7-4573-48b9-9b50-4e64b414213e",
   "metadata": {},
   "source": [
    "**Een set is een <u>mutable</u> dataverzameling van <u>unieke</u> elementen.**"
   ]
  },
  {
   "cell_type": "markdown",
   "id": "443e2275-c790-4153-82c2-f08782f7856c",
   "metadata": {},
   "source": [
    "<h3>Set variabelen aanmaken en afdrukken</h3>"
   ]
  },
  {
   "cell_type": "code",
<<<<<<< HEAD
   "execution_count": 30,
=======
   "execution_count": 4,
>>>>>>> b9dab27 (Sets  Exercise 1 Af)
   "id": "b5ca0430-4eb8-4eeb-a899-151ebbbf7f13",
   "metadata": {},
   "outputs": [
    {
     "name": "stdout",
     "output_type": "stream",
     "text": [
      "{'Pioneer', 'Voyager'}\n"
     ]
    }
   ],
   "source": [
    "spaceCrafts = set()\n",
    "counter = 0\n",
    "spaceCrafts = {\"Pioneer\", \"Voyager\"}\n",
    "print(spaceCrafts)"
   ]
  },
  {
   "cell_type": "raw",
   "id": "15eaabd3-5697-474e-9a46-a384a242c8a4",
   "metadata": {},
   "source": [
    "Elementen kunnen aan een bestaande set worden toegevoegd.."
   ]
  },
  {
   "cell_type": "code",
<<<<<<< HEAD
   "execution_count": 31,
   "id": "e8e00fbb-0a04-4754-9fdc-0ea3bc54f43e",
   "metadata": {},
   "outputs": [],
   "source": [
    "spaceCrafts.add(\"Voyager\")"
=======
   "execution_count": 9,
   "id": "e8e00fbb-0a04-4754-9fdc-0ea3bc54f43e",
   "metadata": {},
   "outputs": [
    {
     "name": "stdout",
     "output_type": "stream",
     "text": [
      "{'Voyager', 'Pioneer'}\n"
     ]
    }
   ],
   "source": [
    "spaceCrafts = set()\n",
    "counter = 0\n",
    "spaceCrafts = {\"Pioneer\", \"Voyager\"}\n",
    "\n",
    "print(spaceCrafts)\n",
    "\n"
>>>>>>> b9dab27 (Sets  Exercise 1 Af)
   ]
  },
  {
   "cell_type": "raw",
   "id": "93db2ef6-ce73-4ce3-8cff-7aa0babea2f2",
   "metadata": {},
   "source": [
    "maar elk element komt slechts 1 keer voor"
   ]
  },
  {
   "cell_type": "code",
<<<<<<< HEAD
   "execution_count": 32,
=======
   "execution_count": 5,
>>>>>>> b9dab27 (Sets  Exercise 1 Af)
   "id": "e51fcac8-8062-4c48-bc39-d191f7742c65",
   "metadata": {},
   "outputs": [
    {
     "name": "stdout",
     "output_type": "stream",
     "text": [
<<<<<<< HEAD
      "{'Pioneer', 'Voyager'}\n"
=======
      "{'JAPP', 'Pioneer', 'Voyager'}\n"
>>>>>>> b9dab27 (Sets  Exercise 1 Af)
     ]
    }
   ],
   "source": [
<<<<<<< HEAD
=======
    "spaceCrafts.add(\"TOEVOEGING\")\n",
    "\n",
>>>>>>> b9dab27 (Sets  Exercise 1 Af)
    "print(spaceCrafts)"
   ]
  },
  {
   "cell_type": "markdown",
   "id": "7e55fb56-f386-4785-8841-90d1844db4d7",
   "metadata": {},
   "source": [
    "<h3>Exercise 1</h3>\n",
    "<h4>Gegeven</h4>"
   ]
  },
  {
   "cell_type": "code",
<<<<<<< HEAD
   "execution_count": 33,
=======
   "execution_count": 10,
>>>>>>> b9dab27 (Sets  Exercise 1 Af)
   "id": "065d6065-9d59-47f3-ba49-0c6cd4dd15f3",
   "metadata": {},
   "outputs": [
    {
     "name": "stdout",
     "output_type": "stream",
     "text": [
      "[0, 1, 1, 2, 3, 5, 8, 13, 21, 34, 55, 89, 144, 233, 377]\n"
     ]
    }
   ],
   "source": [
    "fibonacciList = [0, 1, 1, 2, 3, 5, 8, 13, 21, 34, 55, 89, 144, 233, 377]\n",
    "print(fibonacciList)"
   ]
  },
  {
   "cell_type": "markdown",
   "id": "def776af-43e4-4bd7-a17b-8778b318dcfd",
   "metadata": {},
   "source": [
    "<h4>Gevraagd</h4>\n",
    "<p>Maak gebruik van <u>casting</u> om variabele <i>fibonacciList</i> te ontdubbelen</p>"
   ]
  },
  {
   "cell_type": "markdown",
   "id": "4eabe9bd-dd7f-4f83-872f-e63e25146ca4",
   "metadata": {},
   "source": [
    "<h4>Oplossing</h4>"
   ]
  },
  {
   "cell_type": "code",
<<<<<<< HEAD
   "execution_count": 34,
=======
   "execution_count": null,
>>>>>>> b9dab27 (Sets  Exercise 1 Af)
   "id": "65a28c92-758e-49b9-b2b6-bd78e79e7642",
   "metadata": {},
   "outputs": [
    {
     "name": "stdout",
     "output_type": "stream",
     "text": [
      "[0, 1, 2, 3, 34, 5, 8, 233, 377, 13, 144, 21, 55, 89]\n"
     ]
    }
   ],
   "source": [
<<<<<<< HEAD
    "#oplossing 1\n",
=======
    "#oplidding 1\n",
>>>>>>> b9dab27 (Sets  Exercise 1 Af)
    "\n",
    "fibonacciList = [0, 1, 1, 2, 3, 5, 8, 13, 21, 34, 55, 89, 144, 233, 377]\n",
    "minDubbel = set(fibonacciList)\n",
    "fibonacciList = list(minDubbel)\n",
    "print(fibonacciList)"
   ]
  },
  {
   "cell_type": "code",
<<<<<<< HEAD
   "execution_count": 35,
   "id": "d11753ff-6b40-46ba-9ef2-67a1db96c047",
=======
   "execution_count": 9,
   "id": "002a0381-e20c-443d-8c13-30343046241b",
>>>>>>> b9dab27 (Sets  Exercise 1 Af)
   "metadata": {},
   "outputs": [
    {
     "name": "stdout",
     "output_type": "stream",
     "text": [
      "{0, 1, 2, 3, 34, 5, 8, 233, 377, 13, 144, 21, 55, 89}\n"
     ]
    }
   ],
   "source": [
    "#oplossing 2\n",
    "\n",
    "fibonacciList = [0, 1, 1, 2, 3, 5, 8, 13, 21, 34, 55, 89, 144, 233, 377]\n",
    "fibonacciSet = set()\n",
    "for i in fibonacciList:\n",
    "    fibonacciSet.add(i)\n",
    "\n",
<<<<<<< HEAD
<<<<<<< HEAD
    "print(fibonacciSet) "
=======
    "print(fibonacciSet)"
>>>>>>> b9dab27 (Sets  Exercise 1 Af)
=======
    "print(fibonacciSet) "
>>>>>>> 478c7b0 (Sets Exercise 1 af)
   ]
  },
  {
   "cell_type": "markdown",
   "id": "3c57550b-cd11-4a6d-a806-946830cbb1cd",
   "metadata": {},
   "source": [
    "<h3>Operaties</h3>"
   ]
  },
  {
   "cell_type": "code",
<<<<<<< HEAD
   "execution_count": 36,
=======
   "execution_count": null,
>>>>>>> b9dab27 (Sets  Exercise 1 Af)
   "id": "46e0e7e4-1cc9-47f3-bc53-d3888252e583",
   "metadata": {},
   "outputs": [],
   "source": [
<<<<<<< HEAD
    "nordics = {\"Denmark\", \"Finland\", \"Iceland\", \"Sweden\", \"Norway\"}\n",
    "baltics = {\"Estonia\", \"Latvia\", \"Lithuania\"}\n",
    "eu = {\"Austria\", \"Belgium\", \"Bulgaria\", \"Croatia\", \"Cyprus\", \"Czechia\", \"Denmark\", \"Estonia\", \"Finland\", \"France\", \"Germany\", \"Greece\", \"Hungary\", \"Ireland\", \"Italy\", \"Latvia\", \"Lithuania\", \"Luxembourg\", \"Malta\", \"The Netherlands\", \"Poland\", \"Portugal\", \"Romania\", \"Slovakia\", \"Slovenia\", \"Spain\", \"Sweden\"}\n",
    "\n"
=======
    "nordics = {\"Denmark\", \"Finland\", \"Iceland\", \"Norway\"}\n",
    "baltics = {\"Estonia\", \"Latvia\", \"Lithuania\"}\n",
    "eu = {\"Austria\", \"Belgium\", \"Bulgaria\", \"Croatia\", \"Cyprus\", \"Czechia\", \"Denmark\", \"Estonia\", \"Finland\", \"France\", \"Germany\", \"Greece\", \"Hungary\", \"Ireland\", \"Italy\", \"Latvia\", \"Lithuania\", \"Luxembourg\", \"Malta\", \"The Netherlands\", \"Poland\", \"Portugal\", \"Romania\", \"Slovakia\", \"Slovenia\", \"Spain\", \"Sweden\"}"
>>>>>>> b9dab27 (Sets  Exercise 1 Af)
   ]
  },
  {
   "cell_type": "markdown",
   "id": "b2c79908-ca34-4657-8481-7a959aa046a5",
   "metadata": {},
   "source": [
    "<h3>Exercise 2</h3>\n",
    "<h4>Gegeven</h4>"
   ]
  },
  {
   "cell_type": "code",
<<<<<<< HEAD
   "execution_count": 37,
=======
   "execution_count": null,
>>>>>>> b9dab27 (Sets  Exercise 1 Af)
   "id": "96daa91c-96a8-41a7-b202-6e4a77876ef0",
   "metadata": {},
   "outputs": [],
   "source": [
    "benelux = {\"Belgium\", \"The Netherlands\", \"Luxembourg\"}"
   ]
  },
  {
   "cell_type": "markdown",
   "id": "80d32381-df51-4185-a4ba-1ed9cf9c6ba2",
   "metadata": {},
   "source": [
    "<h4>Gevraagd</h4>\n",
    "<p>Maak een String met als <u>value</u> \"BeNeLux\" die is opgebouwd uit de letters van corresponderende items uit de set <i>benelux</i> zonder de set variabele zelf aan te passen</p>\n",
    "<p>Hints:<ol>\n",
    "    <li>Maak gebruik (tijdelijke) variable van het type list</li>\n",
    "    <li>Pas daarin het item \"The Netherlands zodat het consistent is met de andere items</li>\n",
    "</ol></p>    "
   ]
  },
  {
   "cell_type": "markdown",
   "id": "871adbea-f738-4d20-8fe9-50ef3e6cbd15",
   "metadata": {},
   "source": [
    "<h4>Oplossing</h4>"
   ]
  },
  {
   "cell_type": "code",
<<<<<<< HEAD
   "execution_count": 38,
   "id": "53417987-3497-4658-a6e1-02d9370b966a",
   "metadata": {},
   "outputs": [
    {
     "name": "stdout",
     "output_type": "stream",
     "text": [
      "BelgiumLuxembourgThe Netherlands\n"
     ]
    }
   ],
   "source": [
    "#Oplossing opzet 1\n",
    "\n",
    "benelux = {\"Belgium\", \"The Netherlands\", \"Luxembourg\"}\n",
    "beneluxList = list(benelux)\n",
    "beneluxList.sort()\n",
    "BeNeLux = ''.join(map(str,beneluxList))\n",
    "\n",
    "print(BeNeLux)"
   ]
  },
  {
   "cell_type": "code",
   "execution_count": 39,
   "id": "378d36bd-e9cd-41e3-a07a-e2008770347a",
   "metadata": {},
   "outputs": [
    {
     "name": "stdout",
     "output_type": "stream",
     "text": [
      "Be\n",
      "Ne\n",
      "Lux\n"
     ]
    }
   ],
   "source": [
    "#Oplossing opzet 2\n",
    "\n",
    "benelux = {\"Belgium\", \"The Netherlands\", \"Luxembourg\"}\n",
    "beneluxList_1 = list(benelux)\n",
    "beneluxList_1.sort()\n",
    "beneluxList_1[2] = 'Netherlands'\n",
    "BeNeLux_1 = ''.join(map(str,beneluxList_1))\n",
    "print(BeNeLux_1[0:2])\n",
    "print(BeNeLux_1[17:19])\n",
    "print(BeNeLux_1[7:10])"
   ]
  },
  {
   "cell_type": "code",
   "execution_count": 40,
   "id": "8a040fac-b758-4909-a450-1af602c0aaf3",
   "metadata": {},
   "outputs": [
    {
     "name": "stdout",
     "output_type": "stream",
     "text": [
      "BeNeLux\n"
     ]
    }
   ],
   "source": [
    " #Oplossing 3\n",
    "\n",
    "benelux = {\"Belgium\", \"The Netherlands\", \"Luxembourg\"}\n",
    "beneluxList_2 = list(benelux)\n",
    "beneluxList_2.sort()\n",
    "beneluxList_2[2] = beneluxList_2[1]\n",
    "beneluxList_2[1] = \"Ne\"\n",
    "beneluxList_2[0] = \"Be\"\n",
    "beneluxList_2[2] = \"Lux\"\n",
    "BeNeLux_2 = ''.join(map(str,beneluxList_2))\n",
    "print(BeNeLux_2)"
   ]
=======
   "execution_count": null,
   "id": "53417987-3497-4658-a6e1-02d9370b966a",
   "metadata": {},
   "outputs": [],
   "source": []
>>>>>>> b9dab27 (Sets  Exercise 1 Af)
  },
  {
   "cell_type": "markdown",
   "id": "978e6a57-c504-4a92-8926-c7d1bd6d5027",
   "metadata": {},
   "source": [
    "<h3>Visualisatie</h3>"
   ]
  },
  {
   "cell_type": "markdown",
   "id": "3b6e45d3-f358-4ffc-87a0-ae0bb5aa424b",
   "metadata": {},
   "source": [
    "<p>Open een (git)bash terminal en run<br>\n",
    "    <i>pip install matplotlib-venn</i>\n",
    "<p>"
   ]
  },
  {
   "cell_type": "markdown",
   "id": "1a0ef2e6-bd8b-4bc0-a6b3-cdaadd2b2942",
   "metadata": {},
   "source": [
    "Vervolgens importeren we de modules <i>venn2</i>, <i>venn3</i> en <i>pylot</i>"
   ]
  },
  {
   "cell_type": "code",
   "execution_count": null,
   "id": "a0d796dc-7580-4937-a2cc-09d5b5c4e432",
   "metadata": {},
<<<<<<< HEAD
   "outputs": [],
=======
   "outputs": [
    {
     "ename": "ModuleNotFoundError",
     "evalue": "No module named 'matplotlib_venn'",
     "output_type": "error",
     "traceback": [
      "\u001b[0;31m---------------------------------------------------------------------------\u001b[0m",
      "\u001b[0;31mModuleNotFoundError\u001b[0m                       Traceback (most recent call last)",
      "Input \u001b[0;32mIn [1]\u001b[0m, in \u001b[0;36m<cell line: 1>\u001b[0;34m()\u001b[0m\n\u001b[0;32m----> 1\u001b[0m \u001b[38;5;28;01mfrom\u001b[39;00m \u001b[38;5;21;01mmatplotlib_venn\u001b[39;00m \u001b[38;5;28;01mimport\u001b[39;00m venn2, venn3\n\u001b[1;32m      2\u001b[0m \u001b[38;5;28;01mfrom\u001b[39;00m \u001b[38;5;21;01mmatplotlib\u001b[39;00m \u001b[38;5;28;01mimport\u001b[39;00m pyplot \u001b[38;5;28;01mas\u001b[39;00m plt\n",
      "\u001b[0;31mModuleNotFoundError\u001b[0m: No module named 'matplotlib_venn'"
     ]
    }
   ],
>>>>>>> b9dab27 (Sets  Exercise 1 Af)
   "source": [
    "from matplotlib_venn import venn2, venn3\n",
    "from matplotlib import pyplot as plt"
   ]
  },
  {
   "cell_type": "markdown",
   "id": "e376b04f-106c-4e3b-aeb5-79af2221a522",
   "metadata": {},
   "source": [
    "**Gebruik een Venn diagram om Sets en hun relaties te visualiseren**"
   ]
  },
  {
   "cell_type": "markdown",
   "id": "ad3f1cb6-7c43-4636-bf27-f1cd811cd140",
   "metadata": {},
   "source": [
    "<p>De Sets benelux, nordics en baltics zijn <strong>disjunct</strong>..</p>"
   ]
  },
  {
   "cell_type": "code",
   "execution_count": null,
   "id": "1a90d4ce-5d4b-45eb-becb-9a041ee81510",
   "metadata": {},
<<<<<<< HEAD
   "outputs": [
    {
     "data": {
      "image/png": "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\n",
      "text/plain": [
       "<Figure size 640x480 with 1 Axes>"
      ]
     },
     "metadata": {},
     "output_type": "display_data"
    }
   ],
=======
   "outputs": [],
>>>>>>> b9dab27 (Sets  Exercise 1 Af)
   "source": [
    "venn3([benelux, nordics, baltics], ('Benelux', 'Nordics', 'Baltics'))\n",
    "plt.show()"
   ]
  },
  {
   "cell_type": "markdown",
   "id": "7e2160a3-a90e-4d16-9f11-5f39458c5f9d",
   "metadata": {},
   "source": [
    "<p>dat wil zeggen dat ze geen enkel item met elkaar gemeen hebben</p>"
   ]
  },
  {
   "cell_type": "code",
   "execution_count": null,
   "id": "7e84e822-09ec-4b96-9268-6208c53535c1",
   "metadata": {},
<<<<<<< HEAD
   "outputs": [
    {
     "data": {
      "text/plain": [
       "{'Belgium',\n",
       " 'Denmark',\n",
       " 'Estonia',\n",
       " 'Finland',\n",
       " 'Iceland',\n",
       " 'Latvia',\n",
       " 'Lithuania',\n",
       " 'Luxembourg',\n",
       " 'Norway',\n",
       " 'Sweden',\n",
       " 'The Netherlands'}"
      ]
     },
     "execution_count": 43,
     "metadata": {},
     "output_type": "execute_result"
    }
   ],
=======
   "outputs": [],
>>>>>>> b9dab27 (Sets  Exercise 1 Af)
   "source": [
    "benelux.symmetric_difference(nordics).symmetric_difference(baltics)"
   ]
  },
  {
   "cell_type": "markdown",
   "id": "ea751320-05f1-41d1-97ba-3f8de4240166",
   "metadata": {},
   "source": [
    "**Gebruik <i>union</i> om verzamelingen verenigen**"
   ]
  },
  {
   "cell_type": "code",
   "execution_count": null,
   "id": "4f803d2e-f0cc-43bf-a5b9-f282adb27811",
   "metadata": {},
<<<<<<< HEAD
   "outputs": [
    {
     "data": {
      "image/png": "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\n",
      "text/plain": [
       "<Figure size 640x480 with 1 Axes>"
      ]
     },
     "metadata": {},
     "output_type": "display_data"
    }
   ],
=======
   "outputs": [],
>>>>>>> b9dab27 (Sets  Exercise 1 Af)
   "source": [
    "subUnion = benelux.union(nordics).union(baltics)\n",
    "venn2([benelux, subUnion], ('Benelux', 'Benelux, Nordics and Baltics'))\n",
    "plt.show()"
   ]
  },
  {
   "cell_type": "markdown",
   "id": "b67a0424-1e9a-4b4d-952e-aa1d351c14cb",
   "metadata": {},
   "source": [
    "<p>De Sets benelux, nordics en baltics zijn allen een eigen <strong>subset</strong> van eu</p>"
   ]
  },
  {
   "cell_type": "markdown",
   "id": "3229dad1-3579-41bd-b4e6-8d49f5c04ed4",
   "metadata": {},
   "source": [
    "<p>Niet alle landen uit <i>subUnion</i> zijn lid van de Europese Unie</p>"
   ]
  },
  {
   "cell_type": "code",
   "execution_count": null,
   "id": "7678cfc6-6e6a-4132-b221-1e303c28ef4f",
   "metadata": {},
<<<<<<< HEAD
   "outputs": [
    {
     "data": {
      "text/plain": [
       "False"
      ]
     },
     "execution_count": 45,
     "metadata": {},
     "output_type": "execute_result"
    }
   ],
=======
   "outputs": [],
>>>>>>> b9dab27 (Sets  Exercise 1 Af)
   "source": [
    "baltics.issubset(eu) and benelux.issubset(eu) and nordics.issubset(eu)"
   ]
  },
  {
   "cell_type": "markdown",
   "id": "e6dc0310-0784-434a-acc1-5a21b4a4b2c5",
   "metadata": {},
   "source": [
    "**Gebruik de methode <i>intersection</i> voor de doorsnede van twee Sets**"
   ]
  },
  {
   "cell_type": "code",
   "execution_count": null,
   "id": "e79a1f39-afc1-43f1-a060-3e6a7976b5fd",
   "metadata": {},
<<<<<<< HEAD
   "outputs": [
    {
     "data": {
      "text/plain": [
       "{'Denmark', 'Finland', 'Sweden'}"
      ]
     },
     "execution_count": 46,
     "metadata": {},
     "output_type": "execute_result"
    }
   ],
=======
   "outputs": [],
>>>>>>> b9dab27 (Sets  Exercise 1 Af)
   "source": [
    "eu.intersection(nordics)"
   ]
  },
  {
   "cell_type": "code",
   "execution_count": null,
   "id": "789bb115-e680-4d25-8646-709ba8e8e346",
   "metadata": {},
<<<<<<< HEAD
   "outputs": [
    {
     "data": {
      "image/png": "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\n",
      "text/plain": [
       "<Figure size 640x480 with 1 Axes>"
      ]
     },
     "metadata": {},
     "output_type": "display_data"
    }
   ],
=======
   "outputs": [],
>>>>>>> b9dab27 (Sets  Exercise 1 Af)
   "source": [
    "venn2([eu, subUnion], ('EU', 'Benelux, Nordics and Baltics'))\n",
    "plt.show()"
   ]
  },
  {
   "cell_type": "markdown",
   "id": "ad46e130-fa09-45b4-b153-f2ce9a844009",
   "metadata": {},
   "source": [
    "<h3>Exercise 3</h3>\n",
    "<p>Gebruik de methode <u>difference</u> om de landen weer te geven die (nog) geen lid zijn van de EU</p>"
   ]
  },
  {
   "cell_type": "code",
<<<<<<< HEAD
   "execution_count": 52,
   "id": "38cc4967-92d4-46de-80c7-835296449c29",
   "metadata": {},
   "outputs": [
    {
     "data": {
      "text/plain": [
       "{'Iceland', 'Norway'}"
      ]
     },
     "execution_count": 52,
     "metadata": {},
     "output_type": "execute_result"
    }
   ],
   "source": [
    "nordics.difference(eu)"
   ]
  },
  {
   "cell_type": "code",
   "execution_count": null,
   "id": "055b92fb-e902-431a-acb2-f7bbec4e4667",
   "metadata": {},
   "outputs": [],
   "source": []
=======
   "execution_count": null,
   "id": "38cc4967-92d4-46de-80c7-835296449c29",
   "metadata": {},
   "outputs": [],
   "source": [
    "nordics.difference(eu)"
   ]
>>>>>>> b9dab27 (Sets  Exercise 1 Af)
  }
 ],
 "metadata": {
  "kernelspec": {
   "display_name": "Python 3 (ipykernel)",
   "language": "python",
   "name": "python3"
  },
  "language_info": {
   "codemirror_mode": {
    "name": "ipython",
    "version": 3
   },
   "file_extension": ".py",
   "mimetype": "text/x-python",
   "name": "python",
   "nbconvert_exporter": "python",
   "pygments_lexer": "ipython3",
<<<<<<< HEAD
   "version": "3.8.9"
  }
=======
   "version": "3.10.6"
  },
  "toc-autonumbering": false
>>>>>>> b9dab27 (Sets  Exercise 1 Af)
 },
 "nbformat": 4,
 "nbformat_minor": 5
}
